{
  "cells": [
    {
      "cell_type": "markdown",
      "metadata": {
        "id": "view-in-github",
        "colab_type": "text"
      },
      "source": [
        "<a href=\"https://colab.research.google.com/github/ROzenSaglam/COOKapp/blob/main/API_image_jpynb.ipynb\" target=\"_parent\"><img src=\"https://colab.research.google.com/assets/colab-badge.svg\" alt=\"Open In Colab\"/></a>"
      ]
    },
    {
      "cell_type": "code",
      "execution_count": 1,
      "metadata": {
        "id": "sAvkm0vaOlm6"
      },
      "outputs": [],
      "source": [
        "import argparse\n",
        "import json\n",
        "import os\n",
        "import time\n",
        "import requests\n",
        "import tqdm\n",
        "import numpy as np\n",
        "from matplotlib import pyplot as plt\n",
        "import tensorflow as tf\n"
      ]
    },
    {
      "cell_type": "code",
      "execution_count": 2,
      "metadata": {
        "colab": {
          "base_uri": "https://localhost:8080/"
        },
        "id": "Md0CpFCtP3_K",
        "outputId": "992ee9ad-d4bc-4598-8968-37d51cf11f70"
      },
      "outputs": [
        {
          "output_type": "stream",
          "name": "stdout",
          "text": [
            "Looking in indexes: https://pypi.org/simple, https://us-python.pkg.dev/colab-wheels/public/simple/\n",
            "Collecting pexels_api\n",
            "  Downloading pexels_api-1.0.1-py3-none-any.whl (4.7 kB)\n",
            "Requirement already satisfied: requests in /usr/local/lib/python3.10/dist-packages (from pexels_api) (2.27.1)\n",
            "Requirement already satisfied: urllib3<1.27,>=1.21.1 in /usr/local/lib/python3.10/dist-packages (from requests->pexels_api) (1.26.15)\n",
            "Requirement already satisfied: certifi>=2017.4.17 in /usr/local/lib/python3.10/dist-packages (from requests->pexels_api) (2022.12.7)\n",
            "Requirement already satisfied: charset-normalizer~=2.0.0 in /usr/local/lib/python3.10/dist-packages (from requests->pexels_api) (2.0.12)\n",
            "Requirement already satisfied: idna<4,>=2.5 in /usr/local/lib/python3.10/dist-packages (from requests->pexels_api) (3.4)\n",
            "Installing collected packages: pexels_api\n",
            "Successfully installed pexels_api-1.0.1\n"
          ]
        }
      ],
      "source": [
        "!pip install pexels_api"
      ]
    },
    {
      "cell_type": "code",
      "execution_count": 3,
      "metadata": {
        "id": "E7t52T6UQeeq"
      },
      "outputs": [],
      "source": [
        "from pexels_api import API"
      ]
    },
    {
      "cell_type": "code",
      "execution_count": 4,
      "metadata": {
        "id": "ygK5IArhQ_Nr",
        "cellView": "code"
      },
      "outputs": [],
      "source": [
        "api_key = '563492ad6f9170000100000151c6565e89284b1fb4b1eefa2fb5b814'\n"
      ]
    },
    {
      "cell_type": "code",
      "execution_count": 5,
      "metadata": {
        "id": "W226cf11WvoM"
      },
      "outputs": [],
      "source": [
        "#@title First way of making an API call\n",
        "\n",
        "headers = {\"Content-Type\": \"application/json\",\n",
        "           \"Authorization\":\"{0}\".format(api_key)}\n",
        "api_url = \"https://api.pexels.com/v1/search?query=recipe&page=2&per_page=50\"\n",
        "response = requests.get(api_url, headers = headers).json()\n"
      ]
    },
    {
      "cell_type": "code",
      "execution_count": 6,
      "metadata": {
        "id": "o2mAZJ1ZSxyl",
        "colab": {
          "base_uri": "https://localhost:8080/"
        },
        "outputId": "81ea657e-5f5e-4293-f2c1-3cd0b249dfb8"
      },
      "outputs": [
        {
          "output_type": "execute_result",
          "data": {
            "text/plain": [
              "[{'id': 7525172,\n",
              "  'width': 3986,\n",
              "  'height': 5991,\n",
              "  'url': 'https://www.pexels.com/photo/delicious-homemade-cake-on-round-stand-7525172/',\n",
              "  'photographer': 'SHVETS production',\n",
              "  'photographer_url': 'https://www.pexels.com/@shvets-production',\n",
              "  'photographer_id': 30353109,\n",
              "  'avg_color': '#CAC7C4',\n",
              "  'src': {'original': 'https://images.pexels.com/photos/7525172/pexels-photo-7525172.jpeg',\n",
              "   'large2x': 'https://images.pexels.com/photos/7525172/pexels-photo-7525172.jpeg?auto=compress&cs=tinysrgb&dpr=2&h=650&w=940',\n",
              "   'large': 'https://images.pexels.com/photos/7525172/pexels-photo-7525172.jpeg?auto=compress&cs=tinysrgb&h=650&w=940',\n",
              "   'medium': 'https://images.pexels.com/photos/7525172/pexels-photo-7525172.jpeg?auto=compress&cs=tinysrgb&h=350',\n",
              "   'small': 'https://images.pexels.com/photos/7525172/pexels-photo-7525172.jpeg?auto=compress&cs=tinysrgb&h=130',\n",
              "   'portrait': 'https://images.pexels.com/photos/7525172/pexels-photo-7525172.jpeg?auto=compress&cs=tinysrgb&fit=crop&h=1200&w=800',\n",
              "   'landscape': 'https://images.pexels.com/photos/7525172/pexels-photo-7525172.jpeg?auto=compress&cs=tinysrgb&fit=crop&h=627&w=1200',\n",
              "   'tiny': 'https://images.pexels.com/photos/7525172/pexels-photo-7525172.jpeg?auto=compress&cs=tinysrgb&dpr=1&fit=crop&h=200&w=280'},\n",
              "  'liked': False,\n",
              "  'alt': 'Appetizing tasty biscuit cake decorated with chocolate frosting placed on round stand on kitchen table'},\n",
              " {'id': 6941028,\n",
              "  'width': 1830,\n",
              "  'height': 2745,\n",
              "  'url': 'https://www.pexels.com/photo/forks-with-fried-potatoes-with-ketchup-on-yellow-background-6941028/',\n",
              "  'photographer': 'Alena Shekhovtcova',\n",
              "  'photographer_url': 'https://www.pexels.com/@alena-shekhovtcova',\n",
              "  'photographer_id': 646465,\n",
              "  'avg_color': '#DBA72E',\n",
              "  'src': {'original': 'https://images.pexels.com/photos/6941028/pexels-photo-6941028.jpeg',\n",
              "   'large2x': 'https://images.pexels.com/photos/6941028/pexels-photo-6941028.jpeg?auto=compress&cs=tinysrgb&dpr=2&h=650&w=940',\n",
              "   'large': 'https://images.pexels.com/photos/6941028/pexels-photo-6941028.jpeg?auto=compress&cs=tinysrgb&h=650&w=940',\n",
              "   'medium': 'https://images.pexels.com/photos/6941028/pexels-photo-6941028.jpeg?auto=compress&cs=tinysrgb&h=350',\n",
              "   'small': 'https://images.pexels.com/photos/6941028/pexels-photo-6941028.jpeg?auto=compress&cs=tinysrgb&h=130',\n",
              "   'portrait': 'https://images.pexels.com/photos/6941028/pexels-photo-6941028.jpeg?auto=compress&cs=tinysrgb&fit=crop&h=1200&w=800',\n",
              "   'landscape': 'https://images.pexels.com/photos/6941028/pexels-photo-6941028.jpeg?auto=compress&cs=tinysrgb&fit=crop&h=627&w=1200',\n",
              "   'tiny': 'https://images.pexels.com/photos/6941028/pexels-photo-6941028.jpeg?auto=compress&cs=tinysrgb&dpr=1&fit=crop&h=200&w=280'},\n",
              "  'liked': False,\n",
              "  'alt': 'Yummy french fries with ketchup on forks near yellow wall in light studio'},\n",
              " {'id': 4022140,\n",
              "  'width': 3648,\n",
              "  'height': 5472,\n",
              "  'url': 'https://www.pexels.com/photo/several-cloves-of-garlic-against-gray-background-4022140/',\n",
              "  'photographer': 'Karolina Grabowska',\n",
              "  'photographer_url': 'https://www.pexels.com/@karolina-grabowska',\n",
              "  'photographer_id': 2332540,\n",
              "  'avg_color': '#D5D8DA',\n",
              "  'src': {'original': 'https://images.pexels.com/photos/4022140/pexels-photo-4022140.jpeg',\n",
              "   'large2x': 'https://images.pexels.com/photos/4022140/pexels-photo-4022140.jpeg?auto=compress&cs=tinysrgb&dpr=2&h=650&w=940',\n",
              "   'large': 'https://images.pexels.com/photos/4022140/pexels-photo-4022140.jpeg?auto=compress&cs=tinysrgb&h=650&w=940',\n",
              "   'medium': 'https://images.pexels.com/photos/4022140/pexels-photo-4022140.jpeg?auto=compress&cs=tinysrgb&h=350',\n",
              "   'small': 'https://images.pexels.com/photos/4022140/pexels-photo-4022140.jpeg?auto=compress&cs=tinysrgb&h=130',\n",
              "   'portrait': 'https://images.pexels.com/photos/4022140/pexels-photo-4022140.jpeg?auto=compress&cs=tinysrgb&fit=crop&h=1200&w=800',\n",
              "   'landscape': 'https://images.pexels.com/photos/4022140/pexels-photo-4022140.jpeg?auto=compress&cs=tinysrgb&fit=crop&h=627&w=1200',\n",
              "   'tiny': 'https://images.pexels.com/photos/4022140/pexels-photo-4022140.jpeg?auto=compress&cs=tinysrgb&dpr=1&fit=crop&h=200&w=280'},\n",
              "  'liked': False,\n",
              "  'alt': 'Top view cloves of garlic arranged on gray surface before cooking fragrant sauce'},\n",
              " {'id': 6287219,\n",
              "  'width': 3360,\n",
              "  'height': 5040,\n",
              "  'url': 'https://www.pexels.com/photo/flour-in-paper-bag-with-steel-scoop-in-kitchen-6287219/',\n",
              "  'photographer': 'Klaus Nielsen',\n",
              "  'photographer_url': 'https://www.pexels.com/@klaus-nielsen',\n",
              "  'photographer_id': 6928139,\n",
              "  'avg_color': '#4E4439',\n",
              "  'src': {'original': 'https://images.pexels.com/photos/6287219/pexels-photo-6287219.jpeg',\n",
              "   'large2x': 'https://images.pexels.com/photos/6287219/pexels-photo-6287219.jpeg?auto=compress&cs=tinysrgb&dpr=2&h=650&w=940',\n",
              "   'large': 'https://images.pexels.com/photos/6287219/pexels-photo-6287219.jpeg?auto=compress&cs=tinysrgb&h=650&w=940',\n",
              "   'medium': 'https://images.pexels.com/photos/6287219/pexels-photo-6287219.jpeg?auto=compress&cs=tinysrgb&h=350',\n",
              "   'small': 'https://images.pexels.com/photos/6287219/pexels-photo-6287219.jpeg?auto=compress&cs=tinysrgb&h=130',\n",
              "   'portrait': 'https://images.pexels.com/photos/6287219/pexels-photo-6287219.jpeg?auto=compress&cs=tinysrgb&fit=crop&h=1200&w=800',\n",
              "   'landscape': 'https://images.pexels.com/photos/6287219/pexels-photo-6287219.jpeg?auto=compress&cs=tinysrgb&fit=crop&h=627&w=1200',\n",
              "   'tiny': 'https://images.pexels.com/photos/6287219/pexels-photo-6287219.jpeg?auto=compress&cs=tinysrgb&dpr=1&fit=crop&h=200&w=280'},\n",
              "  'liked': False,\n",
              "  'alt': 'Flour in paper bag with steel scoop in kitchen'},\n",
              " {'id': 5946966,\n",
              "  'width': 2735,\n",
              "  'height': 4260,\n",
              "  'url': 'https://www.pexels.com/photo/fresh-matcha-latte-served-on-table-with-sweet-pie-5946966/',\n",
              "  'photographer': 'Charlotte May',\n",
              "  'photographer_url': 'https://www.pexels.com/@charlotte-may',\n",
              "  'photographer_id': 3660112,\n",
              "  'avg_color': '#7A7566',\n",
              "  'src': {'original': 'https://images.pexels.com/photos/5946966/pexels-photo-5946966.jpeg',\n",
              "   'large2x': 'https://images.pexels.com/photos/5946966/pexels-photo-5946966.jpeg?auto=compress&cs=tinysrgb&dpr=2&h=650&w=940',\n",
              "   'large': 'https://images.pexels.com/photos/5946966/pexels-photo-5946966.jpeg?auto=compress&cs=tinysrgb&h=650&w=940',\n",
              "   'medium': 'https://images.pexels.com/photos/5946966/pexels-photo-5946966.jpeg?auto=compress&cs=tinysrgb&h=350',\n",
              "   'small': 'https://images.pexels.com/photos/5946966/pexels-photo-5946966.jpeg?auto=compress&cs=tinysrgb&h=130',\n",
              "   'portrait': 'https://images.pexels.com/photos/5946966/pexels-photo-5946966.jpeg?auto=compress&cs=tinysrgb&fit=crop&h=1200&w=800',\n",
              "   'landscape': 'https://images.pexels.com/photos/5946966/pexels-photo-5946966.jpeg?auto=compress&cs=tinysrgb&fit=crop&h=627&w=1200',\n",
              "   'tiny': 'https://images.pexels.com/photos/5946966/pexels-photo-5946966.jpeg?auto=compress&cs=tinysrgb&dpr=1&fit=crop&h=200&w=280'},\n",
              "  'liked': False,\n",
              "  'alt': 'Glass of tasty refreshing matcha latte served on table with yummy pie slice in cafe'},\n",
              " {'id': 6287261,\n",
              "  'width': 3360,\n",
              "  'height': 5040,\n",
              "  'url': 'https://www.pexels.com/photo/crop-cook-breaking-egg-into-flour-6287261/',\n",
              "  'photographer': 'Klaus Nielsen',\n",
              "  'photographer_url': 'https://www.pexels.com/@klaus-nielsen',\n",
              "  'photographer_id': 6928139,\n",
              "  'avg_color': '#776C60',\n",
              "  'src': {'original': 'https://images.pexels.com/photos/6287261/pexels-photo-6287261.jpeg',\n",
              "   'large2x': 'https://images.pexels.com/photos/6287261/pexels-photo-6287261.jpeg?auto=compress&cs=tinysrgb&dpr=2&h=650&w=940',\n",
              "   'large': 'https://images.pexels.com/photos/6287261/pexels-photo-6287261.jpeg?auto=compress&cs=tinysrgb&h=650&w=940',\n",
              "   'medium': 'https://images.pexels.com/photos/6287261/pexels-photo-6287261.jpeg?auto=compress&cs=tinysrgb&h=350',\n",
              "   'small': 'https://images.pexels.com/photos/6287261/pexels-photo-6287261.jpeg?auto=compress&cs=tinysrgb&h=130',\n",
              "   'portrait': 'https://images.pexels.com/photos/6287261/pexels-photo-6287261.jpeg?auto=compress&cs=tinysrgb&fit=crop&h=1200&w=800',\n",
              "   'landscape': 'https://images.pexels.com/photos/6287261/pexels-photo-6287261.jpeg?auto=compress&cs=tinysrgb&fit=crop&h=627&w=1200',\n",
              "   'tiny': 'https://images.pexels.com/photos/6287261/pexels-photo-6287261.jpeg?auto=compress&cs=tinysrgb&dpr=1&fit=crop&h=200&w=280'},\n",
              "  'liked': False,\n",
              "  'alt': 'Crop cook breaking egg into flour'},\n",
              " {'id': 6287581,\n",
              "  'width': 3360,\n",
              "  'height': 5040,\n",
              "  'url': 'https://www.pexels.com/photo/woman-showing-wheat-flour-in-hands-6287581/',\n",
              "  'photographer': 'Klaus Nielsen',\n",
              "  'photographer_url': 'https://www.pexels.com/@klaus-nielsen',\n",
              "  'photographer_id': 6928139,\n",
              "  'avg_color': '#756F67',\n",
              "  'src': {'original': 'https://images.pexels.com/photos/6287581/pexels-photo-6287581.jpeg',\n",
              "   'large2x': 'https://images.pexels.com/photos/6287581/pexels-photo-6287581.jpeg?auto=compress&cs=tinysrgb&dpr=2&h=650&w=940',\n",
              "   'large': 'https://images.pexels.com/photos/6287581/pexels-photo-6287581.jpeg?auto=compress&cs=tinysrgb&h=650&w=940',\n",
              "   'medium': 'https://images.pexels.com/photos/6287581/pexels-photo-6287581.jpeg?auto=compress&cs=tinysrgb&h=350',\n",
              "   'small': 'https://images.pexels.com/photos/6287581/pexels-photo-6287581.jpeg?auto=compress&cs=tinysrgb&h=130',\n",
              "   'portrait': 'https://images.pexels.com/photos/6287581/pexels-photo-6287581.jpeg?auto=compress&cs=tinysrgb&fit=crop&h=1200&w=800',\n",
              "   'landscape': 'https://images.pexels.com/photos/6287581/pexels-photo-6287581.jpeg?auto=compress&cs=tinysrgb&fit=crop&h=627&w=1200',\n",
              "   'tiny': 'https://images.pexels.com/photos/6287581/pexels-photo-6287581.jpeg?auto=compress&cs=tinysrgb&dpr=1&fit=crop&h=200&w=280'},\n",
              "  'liked': False,\n",
              "  'alt': 'Woman showing wheat flour in hands'},\n",
              " {'id': 7144445,\n",
              "  'width': 3648,\n",
              "  'height': 5472,\n",
              "  'url': 'https://www.pexels.com/photo/person-adding-honey-on-pancakes-with-wooden-dipper-7144445/',\n",
              "  'photographer': 'Monstera',\n",
              "  'photographer_url': 'https://www.pexels.com/@gabby-k',\n",
              "  'photographer_id': 3372733,\n",
              "  'avg_color': '#8F8C82',\n",
              "  'src': {'original': 'https://images.pexels.com/photos/7144445/pexels-photo-7144445.jpeg',\n",
              "   'large2x': 'https://images.pexels.com/photos/7144445/pexels-photo-7144445.jpeg?auto=compress&cs=tinysrgb&dpr=2&h=650&w=940',\n",
              "   'large': 'https://images.pexels.com/photos/7144445/pexels-photo-7144445.jpeg?auto=compress&cs=tinysrgb&h=650&w=940',\n",
              "   'medium': 'https://images.pexels.com/photos/7144445/pexels-photo-7144445.jpeg?auto=compress&cs=tinysrgb&h=350',\n",
              "   'small': 'https://images.pexels.com/photos/7144445/pexels-photo-7144445.jpeg?auto=compress&cs=tinysrgb&h=130',\n",
              "   'portrait': 'https://images.pexels.com/photos/7144445/pexels-photo-7144445.jpeg?auto=compress&cs=tinysrgb&fit=crop&h=1200&w=800',\n",
              "   'landscape': 'https://images.pexels.com/photos/7144445/pexels-photo-7144445.jpeg?auto=compress&cs=tinysrgb&fit=crop&h=627&w=1200',\n",
              "   'tiny': 'https://images.pexels.com/photos/7144445/pexels-photo-7144445.jpeg?auto=compress&cs=tinysrgb&dpr=1&fit=crop&h=200&w=280'},\n",
              "  'liked': False,\n",
              "  'alt': 'Person adding honey on pancakes with wooden dipper'},\n",
              " {'id': 7144977,\n",
              "  'width': 3648,\n",
              "  'height': 5472,\n",
              "  'url': 'https://www.pexels.com/photo/pancakes-with-honey-and-bananas-on-chopping-board-on-table-7144977/',\n",
              "  'photographer': 'Monstera',\n",
              "  'photographer_url': 'https://www.pexels.com/@gabby-k',\n",
              "  'photographer_id': 3372733,\n",
              "  'avg_color': '#867963',\n",
              "  'src': {'original': 'https://images.pexels.com/photos/7144977/pexels-photo-7144977.jpeg',\n",
              "   'large2x': 'https://images.pexels.com/photos/7144977/pexels-photo-7144977.jpeg?auto=compress&cs=tinysrgb&dpr=2&h=650&w=940',\n",
              "   'large': 'https://images.pexels.com/photos/7144977/pexels-photo-7144977.jpeg?auto=compress&cs=tinysrgb&h=650&w=940',\n",
              "   'medium': 'https://images.pexels.com/photos/7144977/pexels-photo-7144977.jpeg?auto=compress&cs=tinysrgb&h=350',\n",
              "   'small': 'https://images.pexels.com/photos/7144977/pexels-photo-7144977.jpeg?auto=compress&cs=tinysrgb&h=130',\n",
              "   'portrait': 'https://images.pexels.com/photos/7144977/pexels-photo-7144977.jpeg?auto=compress&cs=tinysrgb&fit=crop&h=1200&w=800',\n",
              "   'landscape': 'https://images.pexels.com/photos/7144977/pexels-photo-7144977.jpeg?auto=compress&cs=tinysrgb&fit=crop&h=627&w=1200',\n",
              "   'tiny': 'https://images.pexels.com/photos/7144977/pexels-photo-7144977.jpeg?auto=compress&cs=tinysrgb&dpr=1&fit=crop&h=200&w=280'},\n",
              "  'liked': False,\n",
              "  'alt': 'Pancakes with honey and bananas on chopping board on table'},\n",
              " {'id': 4198376,\n",
              "  'width': 4480,\n",
              "  'height': 6720,\n",
              "  'url': 'https://www.pexels.com/photo/red-pepper-and-bar-of-dark-chocolate-4198376/',\n",
              "  'photographer': 'Karolina Grabowska',\n",
              "  'photographer_url': 'https://www.pexels.com/@karolina-grabowska',\n",
              "  'photographer_id': 2332540,\n",
              "  'avg_color': '#3C1C14',\n",
              "  'src': {'original': 'https://images.pexels.com/photos/4198376/pexels-photo-4198376.jpeg',\n",
              "   'large2x': 'https://images.pexels.com/photos/4198376/pexels-photo-4198376.jpeg?auto=compress&cs=tinysrgb&dpr=2&h=650&w=940',\n",
              "   'large': 'https://images.pexels.com/photos/4198376/pexels-photo-4198376.jpeg?auto=compress&cs=tinysrgb&h=650&w=940',\n",
              "   'medium': 'https://images.pexels.com/photos/4198376/pexels-photo-4198376.jpeg?auto=compress&cs=tinysrgb&h=350',\n",
              "   'small': 'https://images.pexels.com/photos/4198376/pexels-photo-4198376.jpeg?auto=compress&cs=tinysrgb&h=130',\n",
              "   'portrait': 'https://images.pexels.com/photos/4198376/pexels-photo-4198376.jpeg?auto=compress&cs=tinysrgb&fit=crop&h=1200&w=800',\n",
              "   'landscape': 'https://images.pexels.com/photos/4198376/pexels-photo-4198376.jpeg?auto=compress&cs=tinysrgb&fit=crop&h=627&w=1200',\n",
              "   'tiny': 'https://images.pexels.com/photos/4198376/pexels-photo-4198376.jpeg?auto=compress&cs=tinysrgb&dpr=1&fit=crop&h=200&w=280'},\n",
              "  'liked': False,\n",
              "  'alt': 'Top view of dry chili pepper placed on dark chocolate bar on dark table with ground spice'},\n",
              " {'id': 4198183,\n",
              "  'width': 4480,\n",
              "  'height': 6720,\n",
              "  'url': 'https://www.pexels.com/photo/green-onion-chopped-for-meal-in-kitchen-4198183/',\n",
              "  'photographer': 'Karolina Grabowska',\n",
              "  'photographer_url': 'https://www.pexels.com/@karolina-grabowska',\n",
              "  'photographer_id': 2332540,\n",
              "  'avg_color': '#344722',\n",
              "  'src': {'original': 'https://images.pexels.com/photos/4198183/pexels-photo-4198183.jpeg',\n",
              "   'large2x': 'https://images.pexels.com/photos/4198183/pexels-photo-4198183.jpeg?auto=compress&cs=tinysrgb&dpr=2&h=650&w=940',\n",
              "   'large': 'https://images.pexels.com/photos/4198183/pexels-photo-4198183.jpeg?auto=compress&cs=tinysrgb&h=650&w=940',\n",
              "   'medium': 'https://images.pexels.com/photos/4198183/pexels-photo-4198183.jpeg?auto=compress&cs=tinysrgb&h=350',\n",
              "   'small': 'https://images.pexels.com/photos/4198183/pexels-photo-4198183.jpeg?auto=compress&cs=tinysrgb&h=130',\n",
              "   'portrait': 'https://images.pexels.com/photos/4198183/pexels-photo-4198183.jpeg?auto=compress&cs=tinysrgb&fit=crop&h=1200&w=800',\n",
              "   'landscape': 'https://images.pexels.com/photos/4198183/pexels-photo-4198183.jpeg?auto=compress&cs=tinysrgb&fit=crop&h=627&w=1200',\n",
              "   'tiny': 'https://images.pexels.com/photos/4198183/pexels-photo-4198183.jpeg?auto=compress&cs=tinysrgb&dpr=1&fit=crop&h=200&w=280'},\n",
              "  'liked': False,\n",
              "  'alt': 'Green onion chopped for meal in kitchen'},\n",
              " {'id': 4940719,\n",
              "  'width': 1856,\n",
              "  'height': 2784,\n",
              "  'url': 'https://www.pexels.com/photo/appetizing-assorted-hummus-served-with-mixed-salad-in-cafe-4940719/',\n",
              "  'photographer': 'Maria Orlova',\n",
              "  'photographer_url': 'https://www.pexels.com/@orlovamaria',\n",
              "  'photographer_id': 3004949,\n",
              "  'avg_color': '#64746F',\n",
              "  'src': {'original': 'https://images.pexels.com/photos/4940719/pexels-photo-4940719.jpeg',\n",
              "   'large2x': 'https://images.pexels.com/photos/4940719/pexels-photo-4940719.jpeg?auto=compress&cs=tinysrgb&dpr=2&h=650&w=940',\n",
              "   'large': 'https://images.pexels.com/photos/4940719/pexels-photo-4940719.jpeg?auto=compress&cs=tinysrgb&h=650&w=940',\n",
              "   'medium': 'https://images.pexels.com/photos/4940719/pexels-photo-4940719.jpeg?auto=compress&cs=tinysrgb&h=350',\n",
              "   'small': 'https://images.pexels.com/photos/4940719/pexels-photo-4940719.jpeg?auto=compress&cs=tinysrgb&h=130',\n",
              "   'portrait': 'https://images.pexels.com/photos/4940719/pexels-photo-4940719.jpeg?auto=compress&cs=tinysrgb&fit=crop&h=1200&w=800',\n",
              "   'landscape': 'https://images.pexels.com/photos/4940719/pexels-photo-4940719.jpeg?auto=compress&cs=tinysrgb&fit=crop&h=627&w=1200',\n",
              "   'tiny': 'https://images.pexels.com/photos/4940719/pexels-photo-4940719.jpeg?auto=compress&cs=tinysrgb&dpr=1&fit=crop&h=200&w=280'},\n",
              "  'liked': False,\n",
              "  'alt': 'Appetizing assorted hummus served with mixed salad in cafe'},\n",
              " {'id': 6294381,\n",
              "  'width': 3360,\n",
              "  'height': 5040,\n",
              "  'url': 'https://www.pexels.com/photo/crop-baker-scattering-powdered-flour-on-table-6294381/',\n",
              "  'photographer': 'Klaus Nielsen',\n",
              "  'photographer_url': 'https://www.pexels.com/@klaus-nielsen',\n",
              "  'photographer_id': 6928139,\n",
              "  'avg_color': '#4B4B4A',\n",
              "  'src': {'original': 'https://images.pexels.com/photos/6294381/pexels-photo-6294381.jpeg',\n",
              "   'large2x': 'https://images.pexels.com/photos/6294381/pexels-photo-6294381.jpeg?auto=compress&cs=tinysrgb&dpr=2&h=650&w=940',\n",
              "   'large': 'https://images.pexels.com/photos/6294381/pexels-photo-6294381.jpeg?auto=compress&cs=tinysrgb&h=650&w=940',\n",
              "   'medium': 'https://images.pexels.com/photos/6294381/pexels-photo-6294381.jpeg?auto=compress&cs=tinysrgb&h=350',\n",
              "   'small': 'https://images.pexels.com/photos/6294381/pexels-photo-6294381.jpeg?auto=compress&cs=tinysrgb&h=130',\n",
              "   'portrait': 'https://images.pexels.com/photos/6294381/pexels-photo-6294381.jpeg?auto=compress&cs=tinysrgb&fit=crop&h=1200&w=800',\n",
              "   'landscape': 'https://images.pexels.com/photos/6294381/pexels-photo-6294381.jpeg?auto=compress&cs=tinysrgb&fit=crop&h=627&w=1200',\n",
              "   'tiny': 'https://images.pexels.com/photos/6294381/pexels-photo-6294381.jpeg?auto=compress&cs=tinysrgb&dpr=1&fit=crop&h=200&w=280'},\n",
              "  'liked': False,\n",
              "  'alt': 'Crop baker scattering powdered flour on table'},\n",
              " {'id': 6287554,\n",
              "  'width': 2595,\n",
              "  'height': 3818,\n",
              "  'url': 'https://www.pexels.com/photo/crop-woman-rolling-spaghetti-on-fork-during-dinner-in-restaurant-6287554/',\n",
              "  'photographer': 'Klaus Nielsen',\n",
              "  'photographer_url': 'https://www.pexels.com/@klaus-nielsen',\n",
              "  'photographer_id': 6928139,\n",
              "  'avg_color': '#534530',\n",
              "  'src': {'original': 'https://images.pexels.com/photos/6287554/pexels-photo-6287554.jpeg',\n",
              "   'large2x': 'https://images.pexels.com/photos/6287554/pexels-photo-6287554.jpeg?auto=compress&cs=tinysrgb&dpr=2&h=650&w=940',\n",
              "   'large': 'https://images.pexels.com/photos/6287554/pexels-photo-6287554.jpeg?auto=compress&cs=tinysrgb&h=650&w=940',\n",
              "   'medium': 'https://images.pexels.com/photos/6287554/pexels-photo-6287554.jpeg?auto=compress&cs=tinysrgb&h=350',\n",
              "   'small': 'https://images.pexels.com/photos/6287554/pexels-photo-6287554.jpeg?auto=compress&cs=tinysrgb&h=130',\n",
              "   'portrait': 'https://images.pexels.com/photos/6287554/pexels-photo-6287554.jpeg?auto=compress&cs=tinysrgb&fit=crop&h=1200&w=800',\n",
              "   'landscape': 'https://images.pexels.com/photos/6287554/pexels-photo-6287554.jpeg?auto=compress&cs=tinysrgb&fit=crop&h=627&w=1200',\n",
              "   'tiny': 'https://images.pexels.com/photos/6287554/pexels-photo-6287554.jpeg?auto=compress&cs=tinysrgb&dpr=1&fit=crop&h=200&w=280'},\n",
              "  'liked': False,\n",
              "  'alt': 'Crop faceless female using fork while eating yummy spaghetti alla bolognese during dinner in restaurant'},\n",
              " {'id': 4198417,\n",
              "  'width': 4480,\n",
              "  'height': 6720,\n",
              "  'url': 'https://www.pexels.com/photo/red-chilli-pepper-on-powder-of-ground-spices-4198417/',\n",
              "  'photographer': 'Karolina Grabowska',\n",
              "  'photographer_url': 'https://www.pexels.com/@karolina-grabowska',\n",
              "  'photographer_id': 2332540,\n",
              "  'avg_color': '#723108',\n",
              "  'src': {'original': 'https://images.pexels.com/photos/4198417/pexels-photo-4198417.jpeg',\n",
              "   'large2x': 'https://images.pexels.com/photos/4198417/pexels-photo-4198417.jpeg?auto=compress&cs=tinysrgb&dpr=2&h=650&w=940',\n",
              "   'large': 'https://images.pexels.com/photos/4198417/pexels-photo-4198417.jpeg?auto=compress&cs=tinysrgb&h=650&w=940',\n",
              "   'medium': 'https://images.pexels.com/photos/4198417/pexels-photo-4198417.jpeg?auto=compress&cs=tinysrgb&h=350',\n",
              "   'small': 'https://images.pexels.com/photos/4198417/pexels-photo-4198417.jpeg?auto=compress&cs=tinysrgb&h=130',\n",
              "   'portrait': 'https://images.pexels.com/photos/4198417/pexels-photo-4198417.jpeg?auto=compress&cs=tinysrgb&fit=crop&h=1200&w=800',\n",
              "   'landscape': 'https://images.pexels.com/photos/4198417/pexels-photo-4198417.jpeg?auto=compress&cs=tinysrgb&fit=crop&h=627&w=1200',\n",
              "   'tiny': 'https://images.pexels.com/photos/4198417/pexels-photo-4198417.jpeg?auto=compress&cs=tinysrgb&dpr=1&fit=crop&h=200&w=280'},\n",
              "  'liked': False,\n",
              "  'alt': 'Red chilli pepper on powder of ground spices'},\n",
              " {'id': 4040701,\n",
              "  'width': 4480,\n",
              "  'height': 6720,\n",
              "  'url': 'https://www.pexels.com/photo/piece-of-cheesecake-garnished-with-cherries-in-syrup-4040701/',\n",
              "  'photographer': 'Karolina Grabowska',\n",
              "  'photographer_url': 'https://www.pexels.com/@karolina-grabowska',\n",
              "  'photographer_id': 2332540,\n",
              "  'avg_color': '#C4B5AF',\n",
              "  'src': {'original': 'https://images.pexels.com/photos/4040701/pexels-photo-4040701.jpeg',\n",
              "   'large2x': 'https://images.pexels.com/photos/4040701/pexels-photo-4040701.jpeg?auto=compress&cs=tinysrgb&dpr=2&h=650&w=940',\n",
              "   'large': 'https://images.pexels.com/photos/4040701/pexels-photo-4040701.jpeg?auto=compress&cs=tinysrgb&h=650&w=940',\n",
              "   'medium': 'https://images.pexels.com/photos/4040701/pexels-photo-4040701.jpeg?auto=compress&cs=tinysrgb&h=350',\n",
              "   'small': 'https://images.pexels.com/photos/4040701/pexels-photo-4040701.jpeg?auto=compress&cs=tinysrgb&h=130',\n",
              "   'portrait': 'https://images.pexels.com/photos/4040701/pexels-photo-4040701.jpeg?auto=compress&cs=tinysrgb&fit=crop&h=1200&w=800',\n",
              "   'landscape': 'https://images.pexels.com/photos/4040701/pexels-photo-4040701.jpeg?auto=compress&cs=tinysrgb&fit=crop&h=627&w=1200',\n",
              "   'tiny': 'https://images.pexels.com/photos/4040701/pexels-photo-4040701.jpeg?auto=compress&cs=tinysrgb&dpr=1&fit=crop&h=200&w=280'},\n",
              "  'liked': False,\n",
              "  'alt': 'Piece of cheesecake garnished with cherries in syrup'},\n",
              " {'id': 4210806,\n",
              "  'width': 4480,\n",
              "  'height': 6720,\n",
              "  'url': 'https://www.pexels.com/photo/crop-person-eating-cutlet-with-potatoes-and-meat-salad-4210806/',\n",
              "  'photographer': 'Karolina Grabowska',\n",
              "  'photographer_url': 'https://www.pexels.com/@karolina-grabowska',\n",
              "  'photographer_id': 2332540,\n",
              "  'avg_color': '#C3B59E',\n",
              "  'src': {'original': 'https://images.pexels.com/photos/4210806/pexels-photo-4210806.jpeg',\n",
              "   'large2x': 'https://images.pexels.com/photos/4210806/pexels-photo-4210806.jpeg?auto=compress&cs=tinysrgb&dpr=2&h=650&w=940',\n",
              "   'large': 'https://images.pexels.com/photos/4210806/pexels-photo-4210806.jpeg?auto=compress&cs=tinysrgb&h=650&w=940',\n",
              "   'medium': 'https://images.pexels.com/photos/4210806/pexels-photo-4210806.jpeg?auto=compress&cs=tinysrgb&h=350',\n",
              "   'small': 'https://images.pexels.com/photos/4210806/pexels-photo-4210806.jpeg?auto=compress&cs=tinysrgb&h=130',\n",
              "   'portrait': 'https://images.pexels.com/photos/4210806/pexels-photo-4210806.jpeg?auto=compress&cs=tinysrgb&fit=crop&h=1200&w=800',\n",
              "   'landscape': 'https://images.pexels.com/photos/4210806/pexels-photo-4210806.jpeg?auto=compress&cs=tinysrgb&fit=crop&h=627&w=1200',\n",
              "   'tiny': 'https://images.pexels.com/photos/4210806/pexels-photo-4210806.jpeg?auto=compress&cs=tinysrgb&dpr=1&fit=crop&h=200&w=280'},\n",
              "  'liked': False,\n",
              "  'alt': 'From above of crop anonymous person eating yummy fried beef cutlet served with tasty boiled potatoes and traditional Russian salad with meat potato and green peas'},\n",
              " {'id': 6294354,\n",
              "  'width': 3360,\n",
              "  'height': 5040,\n",
              "  'url': 'https://www.pexels.com/photo/crop-faceless-chef-cooking-delicious-omelette-on-pan-6294354/',\n",
              "  'photographer': 'Klaus Nielsen',\n",
              "  'photographer_url': 'https://www.pexels.com/@klaus-nielsen',\n",
              "  'photographer_id': 6928139,\n",
              "  'avg_color': '#5A4F39',\n",
              "  'src': {'original': 'https://images.pexels.com/photos/6294354/pexels-photo-6294354.jpeg',\n",
              "   'large2x': 'https://images.pexels.com/photos/6294354/pexels-photo-6294354.jpeg?auto=compress&cs=tinysrgb&dpr=2&h=650&w=940',\n",
              "   'large': 'https://images.pexels.com/photos/6294354/pexels-photo-6294354.jpeg?auto=compress&cs=tinysrgb&h=650&w=940',\n",
              "   'medium': 'https://images.pexels.com/photos/6294354/pexels-photo-6294354.jpeg?auto=compress&cs=tinysrgb&h=350',\n",
              "   'small': 'https://images.pexels.com/photos/6294354/pexels-photo-6294354.jpeg?auto=compress&cs=tinysrgb&h=130',\n",
              "   'portrait': 'https://images.pexels.com/photos/6294354/pexels-photo-6294354.jpeg?auto=compress&cs=tinysrgb&fit=crop&h=1200&w=800',\n",
              "   'landscape': 'https://images.pexels.com/photos/6294354/pexels-photo-6294354.jpeg?auto=compress&cs=tinysrgb&fit=crop&h=627&w=1200',\n",
              "   'tiny': 'https://images.pexels.com/photos/6294354/pexels-photo-6294354.jpeg?auto=compress&cs=tinysrgb&dpr=1&fit=crop&h=200&w=280'},\n",
              "  'liked': False,\n",
              "  'alt': 'High angle crop anonymous chef rolling yummy omelette with tomatoes and radish on frying pan by using wooden spatula'},\n",
              " {'id': 6375547,\n",
              "  'width': 2448,\n",
              "  'height': 3696,\n",
              "  'url': 'https://www.pexels.com/photo/fresh-cut-bread-in-wooden-bowl-6375547/',\n",
              "  'photographer': 'Skylar Kang',\n",
              "  'photographer_url': 'https://www.pexels.com/@skylar-kang',\n",
              "  'photographer_id': 3773880,\n",
              "  'avg_color': '#A29893',\n",
              "  'src': {'original': 'https://images.pexels.com/photos/6375547/pexels-photo-6375547.jpeg',\n",
              "   'large2x': 'https://images.pexels.com/photos/6375547/pexels-photo-6375547.jpeg?auto=compress&cs=tinysrgb&dpr=2&h=650&w=940',\n",
              "   'large': 'https://images.pexels.com/photos/6375547/pexels-photo-6375547.jpeg?auto=compress&cs=tinysrgb&h=650&w=940',\n",
              "   'medium': 'https://images.pexels.com/photos/6375547/pexels-photo-6375547.jpeg?auto=compress&cs=tinysrgb&h=350',\n",
              "   'small': 'https://images.pexels.com/photos/6375547/pexels-photo-6375547.jpeg?auto=compress&cs=tinysrgb&h=130',\n",
              "   'portrait': 'https://images.pexels.com/photos/6375547/pexels-photo-6375547.jpeg?auto=compress&cs=tinysrgb&fit=crop&h=1200&w=800',\n",
              "   'landscape': 'https://images.pexels.com/photos/6375547/pexels-photo-6375547.jpeg?auto=compress&cs=tinysrgb&fit=crop&h=627&w=1200',\n",
              "   'tiny': 'https://images.pexels.com/photos/6375547/pexels-photo-6375547.jpeg?auto=compress&cs=tinysrgb&dpr=1&fit=crop&h=200&w=280'},\n",
              "  'liked': False,\n",
              "  'alt': 'Fresh cut bread in wooden bowl'},\n",
              " {'id': 6287517,\n",
              "  'width': 3360,\n",
              "  'height': 5040,\n",
              "  'url': 'https://www.pexels.com/photo/crop-faceless-chef-grating-cheese-on-appetizing-spaghetti-6287517/',\n",
              "  'photographer': 'Klaus Nielsen',\n",
              "  'photographer_url': 'https://www.pexels.com/@klaus-nielsen',\n",
              "  'photographer_id': 6928139,\n",
              "  'avg_color': '#706349',\n",
              "  'src': {'original': 'https://images.pexels.com/photos/6287517/pexels-photo-6287517.jpeg',\n",
              "   'large2x': 'https://images.pexels.com/photos/6287517/pexels-photo-6287517.jpeg?auto=compress&cs=tinysrgb&dpr=2&h=650&w=940',\n",
              "   'large': 'https://images.pexels.com/photos/6287517/pexels-photo-6287517.jpeg?auto=compress&cs=tinysrgb&h=650&w=940',\n",
              "   'medium': 'https://images.pexels.com/photos/6287517/pexels-photo-6287517.jpeg?auto=compress&cs=tinysrgb&h=350',\n",
              "   'small': 'https://images.pexels.com/photos/6287517/pexels-photo-6287517.jpeg?auto=compress&cs=tinysrgb&h=130',\n",
              "   'portrait': 'https://images.pexels.com/photos/6287517/pexels-photo-6287517.jpeg?auto=compress&cs=tinysrgb&fit=crop&h=1200&w=800',\n",
              "   'landscape': 'https://images.pexels.com/photos/6287517/pexels-photo-6287517.jpeg?auto=compress&cs=tinysrgb&fit=crop&h=627&w=1200',\n",
              "   'tiny': 'https://images.pexels.com/photos/6287517/pexels-photo-6287517.jpeg?auto=compress&cs=tinysrgb&dpr=1&fit=crop&h=200&w=280'},\n",
              "  'liked': False,\n",
              "  'alt': 'Crop faceless chef grating cheese on appetizing spaghetti'},\n",
              " {'id': 6287295,\n",
              "  'width': 5040,\n",
              "  'height': 3360,\n",
              "  'url': 'https://www.pexels.com/photo/woman-making-pastry-on-table-with-flour-6287295/',\n",
              "  'photographer': 'Klaus Nielsen',\n",
              "  'photographer_url': 'https://www.pexels.com/@klaus-nielsen',\n",
              "  'photographer_id': 6928139,\n",
              "  'avg_color': '#92846E',\n",
              "  'src': {'original': 'https://images.pexels.com/photos/6287295/pexels-photo-6287295.jpeg',\n",
              "   'large2x': 'https://images.pexels.com/photos/6287295/pexels-photo-6287295.jpeg?auto=compress&cs=tinysrgb&dpr=2&h=650&w=940',\n",
              "   'large': 'https://images.pexels.com/photos/6287295/pexels-photo-6287295.jpeg?auto=compress&cs=tinysrgb&h=650&w=940',\n",
              "   'medium': 'https://images.pexels.com/photos/6287295/pexels-photo-6287295.jpeg?auto=compress&cs=tinysrgb&h=350',\n",
              "   'small': 'https://images.pexels.com/photos/6287295/pexels-photo-6287295.jpeg?auto=compress&cs=tinysrgb&h=130',\n",
              "   'portrait': 'https://images.pexels.com/photos/6287295/pexels-photo-6287295.jpeg?auto=compress&cs=tinysrgb&fit=crop&h=1200&w=800',\n",
              "   'landscape': 'https://images.pexels.com/photos/6287295/pexels-photo-6287295.jpeg?auto=compress&cs=tinysrgb&fit=crop&h=627&w=1200',\n",
              "   'tiny': 'https://images.pexels.com/photos/6287295/pexels-photo-6287295.jpeg?auto=compress&cs=tinysrgb&dpr=1&fit=crop&h=200&w=280'},\n",
              "  'liked': False,\n",
              "  'alt': 'Woman making pastry on table with flour'},\n",
              " {'id': 7809735,\n",
              "  'width': 4240,\n",
              "  'height': 2832,\n",
              "  'url': 'https://www.pexels.com/photo/glasses-of-cocktails-decorated-with-pear-and-blooming-flowers-7809735/',\n",
              "  'photographer': 'Dziana Hasanbekava',\n",
              "  'photographer_url': 'https://www.pexels.com/@dziana-hasanbekava',\n",
              "  'photographer_id': 3655843,\n",
              "  'avg_color': '#A99B81',\n",
              "  'src': {'original': 'https://images.pexels.com/photos/7809735/pexels-photo-7809735.jpeg',\n",
              "   'large2x': 'https://images.pexels.com/photos/7809735/pexels-photo-7809735.jpeg?auto=compress&cs=tinysrgb&dpr=2&h=650&w=940',\n",
              "   'large': 'https://images.pexels.com/photos/7809735/pexels-photo-7809735.jpeg?auto=compress&cs=tinysrgb&h=650&w=940',\n",
              "   'medium': 'https://images.pexels.com/photos/7809735/pexels-photo-7809735.jpeg?auto=compress&cs=tinysrgb&h=350',\n",
              "   'small': 'https://images.pexels.com/photos/7809735/pexels-photo-7809735.jpeg?auto=compress&cs=tinysrgb&h=130',\n",
              "   'portrait': 'https://images.pexels.com/photos/7809735/pexels-photo-7809735.jpeg?auto=compress&cs=tinysrgb&fit=crop&h=1200&w=800',\n",
              "   'landscape': 'https://images.pexels.com/photos/7809735/pexels-photo-7809735.jpeg?auto=compress&cs=tinysrgb&fit=crop&h=627&w=1200',\n",
              "   'tiny': 'https://images.pexels.com/photos/7809735/pexels-photo-7809735.jpeg?auto=compress&cs=tinysrgb&dpr=1&fit=crop&h=200&w=280'},\n",
              "  'liked': False,\n",
              "  'alt': 'Glasses of cocktails decorated with pear and blooming flowers'},\n",
              " {'id': 7144974,\n",
              "  'width': 3648,\n",
              "  'height': 5472,\n",
              "  'url': 'https://www.pexels.com/photo/plate-with-pancakes-with-butter-near-roasted-bacon-and-poached-egg-7144974/',\n",
              "  'photographer': 'Monstera',\n",
              "  'photographer_url': 'https://www.pexels.com/@gabby-k',\n",
              "  'photographer_id': 3372733,\n",
              "  'avg_color': '#7B6C5D',\n",
              "  'src': {'original': 'https://images.pexels.com/photos/7144974/pexels-photo-7144974.jpeg',\n",
              "   'large2x': 'https://images.pexels.com/photos/7144974/pexels-photo-7144974.jpeg?auto=compress&cs=tinysrgb&dpr=2&h=650&w=940',\n",
              "   'large': 'https://images.pexels.com/photos/7144974/pexels-photo-7144974.jpeg?auto=compress&cs=tinysrgb&h=650&w=940',\n",
              "   'medium': 'https://images.pexels.com/photos/7144974/pexels-photo-7144974.jpeg?auto=compress&cs=tinysrgb&h=350',\n",
              "   'small': 'https://images.pexels.com/photos/7144974/pexels-photo-7144974.jpeg?auto=compress&cs=tinysrgb&h=130',\n",
              "   'portrait': 'https://images.pexels.com/photos/7144974/pexels-photo-7144974.jpeg?auto=compress&cs=tinysrgb&fit=crop&h=1200&w=800',\n",
              "   'landscape': 'https://images.pexels.com/photos/7144974/pexels-photo-7144974.jpeg?auto=compress&cs=tinysrgb&fit=crop&h=627&w=1200',\n",
              "   'tiny': 'https://images.pexels.com/photos/7144974/pexels-photo-7144974.jpeg?auto=compress&cs=tinysrgb&dpr=1&fit=crop&h=200&w=280'},\n",
              "  'liked': False,\n",
              "  'alt': 'From above of pancakes with poached egg with seasoning and butter piece near sliced fried bacon on plate near fork and knife on white table'},\n",
              " {'id': 6157039,\n",
              "  'width': 4353,\n",
              "  'height': 3434,\n",
              "  'url': 'https://www.pexels.com/photo/thin-mushrooms-on-table-6157039/',\n",
              "  'photographer': 'Laker',\n",
              "  'photographer_url': 'https://www.pexels.com/@laker',\n",
              "  'photographer_id': 3688642,\n",
              "  'avg_color': '#B8A68F',\n",
              "  'src': {'original': 'https://images.pexels.com/photos/6157039/pexels-photo-6157039.jpeg',\n",
              "   'large2x': 'https://images.pexels.com/photos/6157039/pexels-photo-6157039.jpeg?auto=compress&cs=tinysrgb&dpr=2&h=650&w=940',\n",
              "   'large': 'https://images.pexels.com/photos/6157039/pexels-photo-6157039.jpeg?auto=compress&cs=tinysrgb&h=650&w=940',\n",
              "   'medium': 'https://images.pexels.com/photos/6157039/pexels-photo-6157039.jpeg?auto=compress&cs=tinysrgb&h=350',\n",
              "   'small': 'https://images.pexels.com/photos/6157039/pexels-photo-6157039.jpeg?auto=compress&cs=tinysrgb&h=130',\n",
              "   'portrait': 'https://images.pexels.com/photos/6157039/pexels-photo-6157039.jpeg?auto=compress&cs=tinysrgb&fit=crop&h=1200&w=800',\n",
              "   'landscape': 'https://images.pexels.com/photos/6157039/pexels-photo-6157039.jpeg?auto=compress&cs=tinysrgb&fit=crop&h=627&w=1200',\n",
              "   'tiny': 'https://images.pexels.com/photos/6157039/pexels-photo-6157039.jpeg?auto=compress&cs=tinysrgb&dpr=1&fit=crop&h=200&w=280'},\n",
              "  'liked': False,\n",
              "  'alt': 'Thin mushrooms on table'},\n",
              " {'id': 6287224,\n",
              "  'width': 4717,\n",
              "  'height': 3101,\n",
              "  'url': 'https://www.pexels.com/photo/person-pouring-flour-from-sieve-in-kitchen-6287224/',\n",
              "  'photographer': 'Klaus Nielsen',\n",
              "  'photographer_url': 'https://www.pexels.com/@klaus-nielsen',\n",
              "  'photographer_id': 6928139,\n",
              "  'avg_color': '#3A3732',\n",
              "  'src': {'original': 'https://images.pexels.com/photos/6287224/pexels-photo-6287224.jpeg',\n",
              "   'large2x': 'https://images.pexels.com/photos/6287224/pexels-photo-6287224.jpeg?auto=compress&cs=tinysrgb&dpr=2&h=650&w=940',\n",
              "   'large': 'https://images.pexels.com/photos/6287224/pexels-photo-6287224.jpeg?auto=compress&cs=tinysrgb&h=650&w=940',\n",
              "   'medium': 'https://images.pexels.com/photos/6287224/pexels-photo-6287224.jpeg?auto=compress&cs=tinysrgb&h=350',\n",
              "   'small': 'https://images.pexels.com/photos/6287224/pexels-photo-6287224.jpeg?auto=compress&cs=tinysrgb&h=130',\n",
              "   'portrait': 'https://images.pexels.com/photos/6287224/pexels-photo-6287224.jpeg?auto=compress&cs=tinysrgb&fit=crop&h=1200&w=800',\n",
              "   'landscape': 'https://images.pexels.com/photos/6287224/pexels-photo-6287224.jpeg?auto=compress&cs=tinysrgb&fit=crop&h=627&w=1200',\n",
              "   'tiny': 'https://images.pexels.com/photos/6287224/pexels-photo-6287224.jpeg?auto=compress&cs=tinysrgb&dpr=1&fit=crop&h=200&w=280'},\n",
              "  'liked': False,\n",
              "  'alt': 'Crop anonymous cook in apron sifting flour while preparing baking dish against gray background'},\n",
              " {'id': 6287283,\n",
              "  'width': 5040,\n",
              "  'height': 3360,\n",
              "  'url': 'https://www.pexels.com/photo/woman-making-dough-on-table-6287283/',\n",
              "  'photographer': 'Klaus Nielsen',\n",
              "  'photographer_url': 'https://www.pexels.com/@klaus-nielsen',\n",
              "  'photographer_id': 6928139,\n",
              "  'avg_color': '#675B48',\n",
              "  'src': {'original': 'https://images.pexels.com/photos/6287283/pexels-photo-6287283.jpeg',\n",
              "   'large2x': 'https://images.pexels.com/photos/6287283/pexels-photo-6287283.jpeg?auto=compress&cs=tinysrgb&dpr=2&h=650&w=940',\n",
              "   'large': 'https://images.pexels.com/photos/6287283/pexels-photo-6287283.jpeg?auto=compress&cs=tinysrgb&h=650&w=940',\n",
              "   'medium': 'https://images.pexels.com/photos/6287283/pexels-photo-6287283.jpeg?auto=compress&cs=tinysrgb&h=350',\n",
              "   'small': 'https://images.pexels.com/photos/6287283/pexels-photo-6287283.jpeg?auto=compress&cs=tinysrgb&h=130',\n",
              "   'portrait': 'https://images.pexels.com/photos/6287283/pexels-photo-6287283.jpeg?auto=compress&cs=tinysrgb&fit=crop&h=1200&w=800',\n",
              "   'landscape': 'https://images.pexels.com/photos/6287283/pexels-photo-6287283.jpeg?auto=compress&cs=tinysrgb&fit=crop&h=627&w=1200',\n",
              "   'tiny': 'https://images.pexels.com/photos/6287283/pexels-photo-6287283.jpeg?auto=compress&cs=tinysrgb&dpr=1&fit=crop&h=200&w=280'},\n",
              "  'liked': False,\n",
              "  'alt': 'Woman making dough on table'},\n",
              " {'id': 6294395,\n",
              "  'width': 1774,\n",
              "  'height': 2597,\n",
              "  'url': 'https://www.pexels.com/photo/person-adding-egg-to-flour-for-dough-6294395/',\n",
              "  'photographer': 'Klaus Nielsen',\n",
              "  'photographer_url': 'https://www.pexels.com/@klaus-nielsen',\n",
              "  'photographer_id': 6928139,\n",
              "  'avg_color': '#6C6863',\n",
              "  'src': {'original': 'https://images.pexels.com/photos/6294395/pexels-photo-6294395.jpeg',\n",
              "   'large2x': 'https://images.pexels.com/photos/6294395/pexels-photo-6294395.jpeg?auto=compress&cs=tinysrgb&dpr=2&h=650&w=940',\n",
              "   'large': 'https://images.pexels.com/photos/6294395/pexels-photo-6294395.jpeg?auto=compress&cs=tinysrgb&h=650&w=940',\n",
              "   'medium': 'https://images.pexels.com/photos/6294395/pexels-photo-6294395.jpeg?auto=compress&cs=tinysrgb&h=350',\n",
              "   'small': 'https://images.pexels.com/photos/6294395/pexels-photo-6294395.jpeg?auto=compress&cs=tinysrgb&h=130',\n",
              "   'portrait': 'https://images.pexels.com/photos/6294395/pexels-photo-6294395.jpeg?auto=compress&cs=tinysrgb&fit=crop&h=1200&w=800',\n",
              "   'landscape': 'https://images.pexels.com/photos/6294395/pexels-photo-6294395.jpeg?auto=compress&cs=tinysrgb&fit=crop&h=627&w=1200',\n",
              "   'tiny': 'https://images.pexels.com/photos/6294395/pexels-photo-6294395.jpeg?auto=compress&cs=tinysrgb&dpr=1&fit=crop&h=200&w=280'},\n",
              "  'liked': False,\n",
              "  'alt': 'Person adding egg to flour for dough'},\n",
              " {'id': 7525161,\n",
              "  'width': 6048,\n",
              "  'height': 4024,\n",
              "  'url': 'https://www.pexels.com/photo/female-confectioner-decorating-homemade-cake-with-berries-7525161/',\n",
              "  'photographer': 'SHVETS production',\n",
              "  'photographer_url': 'https://www.pexels.com/@shvets-production',\n",
              "  'photographer_id': 30353109,\n",
              "  'avg_color': '#B9A79E',\n",
              "  'src': {'original': 'https://images.pexels.com/photos/7525161/pexels-photo-7525161.jpeg',\n",
              "   'large2x': 'https://images.pexels.com/photos/7525161/pexels-photo-7525161.jpeg?auto=compress&cs=tinysrgb&dpr=2&h=650&w=940',\n",
              "   'large': 'https://images.pexels.com/photos/7525161/pexels-photo-7525161.jpeg?auto=compress&cs=tinysrgb&h=650&w=940',\n",
              "   'medium': 'https://images.pexels.com/photos/7525161/pexels-photo-7525161.jpeg?auto=compress&cs=tinysrgb&h=350',\n",
              "   'small': 'https://images.pexels.com/photos/7525161/pexels-photo-7525161.jpeg?auto=compress&cs=tinysrgb&h=130',\n",
              "   'portrait': 'https://images.pexels.com/photos/7525161/pexels-photo-7525161.jpeg?auto=compress&cs=tinysrgb&fit=crop&h=1200&w=800',\n",
              "   'landscape': 'https://images.pexels.com/photos/7525161/pexels-photo-7525161.jpeg?auto=compress&cs=tinysrgb&fit=crop&h=627&w=1200',\n",
              "   'tiny': 'https://images.pexels.com/photos/7525161/pexels-photo-7525161.jpeg?auto=compress&cs=tinysrgb&dpr=1&fit=crop&h=200&w=280'},\n",
              "  'liked': False,\n",
              "  'alt': 'Female confectioner decorating homemade cake with berries'},\n",
              " {'id': 5907829,\n",
              "  'width': 3360,\n",
              "  'height': 5040,\n",
              "  'url': 'https://www.pexels.com/photo/cheerful-women-having-fun-in-kitchen-5907829/',\n",
              "  'photographer': 'Katerina Holmes',\n",
              "  'photographer_url': 'https://www.pexels.com/@katerina-holmes',\n",
              "  'photographer_id': 3660631,\n",
              "  'avg_color': '#7F7A6C',\n",
              "  'src': {'original': 'https://images.pexels.com/photos/5907829/pexels-photo-5907829.jpeg',\n",
              "   'large2x': 'https://images.pexels.com/photos/5907829/pexels-photo-5907829.jpeg?auto=compress&cs=tinysrgb&dpr=2&h=650&w=940',\n",
              "   'large': 'https://images.pexels.com/photos/5907829/pexels-photo-5907829.jpeg?auto=compress&cs=tinysrgb&h=650&w=940',\n",
              "   'medium': 'https://images.pexels.com/photos/5907829/pexels-photo-5907829.jpeg?auto=compress&cs=tinysrgb&h=350',\n",
              "   'small': 'https://images.pexels.com/photos/5907829/pexels-photo-5907829.jpeg?auto=compress&cs=tinysrgb&h=130',\n",
              "   'portrait': 'https://images.pexels.com/photos/5907829/pexels-photo-5907829.jpeg?auto=compress&cs=tinysrgb&fit=crop&h=1200&w=800',\n",
              "   'landscape': 'https://images.pexels.com/photos/5907829/pexels-photo-5907829.jpeg?auto=compress&cs=tinysrgb&fit=crop&h=627&w=1200',\n",
              "   'tiny': 'https://images.pexels.com/photos/5907829/pexels-photo-5907829.jpeg?auto=compress&cs=tinysrgb&dpr=1&fit=crop&h=200&w=280'},\n",
              "  'liked': False,\n",
              "  'alt': 'Cheerful women having fun in kitchen'},\n",
              " {'id': 6210848,\n",
              "  'width': 3360,\n",
              "  'height': 5040,\n",
              "  'url': 'https://www.pexels.com/photo/woman-decorating-christmas-cake-with-redcurrant-6210848/',\n",
              "  'photographer': 'Tim Douglas',\n",
              "  'photographer_url': 'https://www.pexels.com/@tim-douglas',\n",
              "  'photographer_id': 6928007,\n",
              "  'avg_color': '#8F8A85',\n",
              "  'src': {'original': 'https://images.pexels.com/photos/6210848/pexels-photo-6210848.jpeg',\n",
              "   'large2x': 'https://images.pexels.com/photos/6210848/pexels-photo-6210848.jpeg?auto=compress&cs=tinysrgb&dpr=2&h=650&w=940',\n",
              "   'large': 'https://images.pexels.com/photos/6210848/pexels-photo-6210848.jpeg?auto=compress&cs=tinysrgb&h=650&w=940',\n",
              "   'medium': 'https://images.pexels.com/photos/6210848/pexels-photo-6210848.jpeg?auto=compress&cs=tinysrgb&h=350',\n",
              "   'small': 'https://images.pexels.com/photos/6210848/pexels-photo-6210848.jpeg?auto=compress&cs=tinysrgb&h=130',\n",
              "   'portrait': 'https://images.pexels.com/photos/6210848/pexels-photo-6210848.jpeg?auto=compress&cs=tinysrgb&fit=crop&h=1200&w=800',\n",
              "   'landscape': 'https://images.pexels.com/photos/6210848/pexels-photo-6210848.jpeg?auto=compress&cs=tinysrgb&fit=crop&h=627&w=1200',\n",
              "   'tiny': 'https://images.pexels.com/photos/6210848/pexels-photo-6210848.jpeg?auto=compress&cs=tinysrgb&dpr=1&fit=crop&h=200&w=280'},\n",
              "  'liked': False,\n",
              "  'alt': 'Crop anonymous female adding redcurrant in festive cake with sugar powder on round wooden board'},\n",
              " {'id': 6287539,\n",
              "  'width': 3360,\n",
              "  'height': 5040,\n",
              "  'url': 'https://www.pexels.com/photo/crop-unrecognizable-woman-with-fork-enjoying-yummy-bolognese-pasta-6287539/',\n",
              "  'photographer': 'Klaus Nielsen',\n",
              "  'photographer_url': 'https://www.pexels.com/@klaus-nielsen',\n",
              "  'photographer_id': 6928139,\n",
              "  'avg_color': '#665740',\n",
              "  'src': {'original': 'https://images.pexels.com/photos/6287539/pexels-photo-6287539.jpeg',\n",
              "   'large2x': 'https://images.pexels.com/photos/6287539/pexels-photo-6287539.jpeg?auto=compress&cs=tinysrgb&dpr=2&h=650&w=940',\n",
              "   'large': 'https://images.pexels.com/photos/6287539/pexels-photo-6287539.jpeg?auto=compress&cs=tinysrgb&h=650&w=940',\n",
              "   'medium': 'https://images.pexels.com/photos/6287539/pexels-photo-6287539.jpeg?auto=compress&cs=tinysrgb&h=350',\n",
              "   'small': 'https://images.pexels.com/photos/6287539/pexels-photo-6287539.jpeg?auto=compress&cs=tinysrgb&h=130',\n",
              "   'portrait': 'https://images.pexels.com/photos/6287539/pexels-photo-6287539.jpeg?auto=compress&cs=tinysrgb&fit=crop&h=1200&w=800',\n",
              "   'landscape': 'https://images.pexels.com/photos/6287539/pexels-photo-6287539.jpeg?auto=compress&cs=tinysrgb&fit=crop&h=627&w=1200',\n",
              "   'tiny': 'https://images.pexels.com/photos/6287539/pexels-photo-6287539.jpeg?auto=compress&cs=tinysrgb&dpr=1&fit=crop&h=200&w=280'},\n",
              "  'liked': False,\n",
              "  'alt': 'Crop unrecognizable woman with fork enjoying yummy Bolognese pasta'},\n",
              " {'id': 6957998,\n",
              "  'width': 3963,\n",
              "  'height': 5944,\n",
              "  'url': 'https://www.pexels.com/photo/woman-with-metal-bowl-at-table-with-milk-and-eggs-6957998/',\n",
              "  'photographer': 'Mikhail Nilov',\n",
              "  'photographer_url': 'https://www.pexels.com/@mikhail-nilov',\n",
              "  'photographer_id': 11437196,\n",
              "  'avg_color': '#C1B0A3',\n",
              "  'src': {'original': 'https://images.pexels.com/photos/6957998/pexels-photo-6957998.jpeg',\n",
              "   'large2x': 'https://images.pexels.com/photos/6957998/pexels-photo-6957998.jpeg?auto=compress&cs=tinysrgb&dpr=2&h=650&w=940',\n",
              "   'large': 'https://images.pexels.com/photos/6957998/pexels-photo-6957998.jpeg?auto=compress&cs=tinysrgb&h=650&w=940',\n",
              "   'medium': 'https://images.pexels.com/photos/6957998/pexels-photo-6957998.jpeg?auto=compress&cs=tinysrgb&h=350',\n",
              "   'small': 'https://images.pexels.com/photos/6957998/pexels-photo-6957998.jpeg?auto=compress&cs=tinysrgb&h=130',\n",
              "   'portrait': 'https://images.pexels.com/photos/6957998/pexels-photo-6957998.jpeg?auto=compress&cs=tinysrgb&fit=crop&h=1200&w=800',\n",
              "   'landscape': 'https://images.pexels.com/photos/6957998/pexels-photo-6957998.jpeg?auto=compress&cs=tinysrgb&fit=crop&h=627&w=1200',\n",
              "   'tiny': 'https://images.pexels.com/photos/6957998/pexels-photo-6957998.jpeg?auto=compress&cs=tinysrgb&dpr=1&fit=crop&h=200&w=280'},\n",
              "  'liked': False,\n",
              "  'alt': 'Young slender female in green apron looking at camera and cooking at table with ingredients and yellow flower'},\n",
              " {'id': 4199060,\n",
              "  'width': 4315,\n",
              "  'height': 6472,\n",
              "  'url': 'https://www.pexels.com/photo/curcuma-in-teaspoon-with-peppers-assortment-4199060/',\n",
              "  'photographer': 'Karolina Grabowska',\n",
              "  'photographer_url': 'https://www.pexels.com/@karolina-grabowska',\n",
              "  'photographer_id': 2332540,\n",
              "  'avg_color': '#C3BEB8',\n",
              "  'src': {'original': 'https://images.pexels.com/photos/4199060/pexels-photo-4199060.jpeg',\n",
              "   'large2x': 'https://images.pexels.com/photos/4199060/pexels-photo-4199060.jpeg?auto=compress&cs=tinysrgb&dpr=2&h=650&w=940',\n",
              "   'large': 'https://images.pexels.com/photos/4199060/pexels-photo-4199060.jpeg?auto=compress&cs=tinysrgb&h=650&w=940',\n",
              "   'medium': 'https://images.pexels.com/photos/4199060/pexels-photo-4199060.jpeg?auto=compress&cs=tinysrgb&h=350',\n",
              "   'small': 'https://images.pexels.com/photos/4199060/pexels-photo-4199060.jpeg?auto=compress&cs=tinysrgb&h=130',\n",
              "   'portrait': 'https://images.pexels.com/photos/4199060/pexels-photo-4199060.jpeg?auto=compress&cs=tinysrgb&fit=crop&h=1200&w=800',\n",
              "   'landscape': 'https://images.pexels.com/photos/4199060/pexels-photo-4199060.jpeg?auto=compress&cs=tinysrgb&fit=crop&h=627&w=1200',\n",
              "   'tiny': 'https://images.pexels.com/photos/4199060/pexels-photo-4199060.jpeg?auto=compress&cs=tinysrgb&dpr=1&fit=crop&h=200&w=280'},\n",
              "  'liked': False,\n",
              "  'alt': 'Top view of metal spoon with yellow powder on table with marble surface around assorted peppers'},\n",
              " {'id': 4792402,\n",
              "  'width': 4016,\n",
              "  'height': 6016,\n",
              "  'url': 'https://www.pexels.com/photo/chocolate-pastries-on-wooden-board-with-coffee-beans-4792402/',\n",
              "  'photographer': 'Anete Lusina',\n",
              "  'photographer_url': 'https://www.pexels.com/@anete-lusina',\n",
              "  'photographer_id': 2202476,\n",
              "  'avg_color': '#B3A094',\n",
              "  'src': {'original': 'https://images.pexels.com/photos/4792402/pexels-photo-4792402.jpeg',\n",
              "   'large2x': 'https://images.pexels.com/photos/4792402/pexels-photo-4792402.jpeg?auto=compress&cs=tinysrgb&dpr=2&h=650&w=940',\n",
              "   'large': 'https://images.pexels.com/photos/4792402/pexels-photo-4792402.jpeg?auto=compress&cs=tinysrgb&h=650&w=940',\n",
              "   'medium': 'https://images.pexels.com/photos/4792402/pexels-photo-4792402.jpeg?auto=compress&cs=tinysrgb&h=350',\n",
              "   'small': 'https://images.pexels.com/photos/4792402/pexels-photo-4792402.jpeg?auto=compress&cs=tinysrgb&h=130',\n",
              "   'portrait': 'https://images.pexels.com/photos/4792402/pexels-photo-4792402.jpeg?auto=compress&cs=tinysrgb&fit=crop&h=1200&w=800',\n",
              "   'landscape': 'https://images.pexels.com/photos/4792402/pexels-photo-4792402.jpeg?auto=compress&cs=tinysrgb&fit=crop&h=627&w=1200',\n",
              "   'tiny': 'https://images.pexels.com/photos/4792402/pexels-photo-4792402.jpeg?auto=compress&cs=tinysrgb&dpr=1&fit=crop&h=200&w=280'},\n",
              "  'liked': False,\n",
              "  'alt': 'From above of appetizing chocolate muffins served on wooden board decorated with coffee beans and placed on table'},\n",
              " {'id': 6941022,\n",
              "  'width': 2642,\n",
              "  'height': 3963,\n",
              "  'url': 'https://www.pexels.com/photo/unrecognizable-person-with-fried-chicken-in-fingers-6941022/',\n",
              "  'photographer': 'Alena Shekhovtcova',\n",
              "  'photographer_url': 'https://www.pexels.com/@alena-shekhovtcova',\n",
              "  'photographer_id': 646465,\n",
              "  'avg_color': '#E7B959',\n",
              "  'src': {'original': 'https://images.pexels.com/photos/6941022/pexels-photo-6941022.jpeg',\n",
              "   'large2x': 'https://images.pexels.com/photos/6941022/pexels-photo-6941022.jpeg?auto=compress&cs=tinysrgb&dpr=2&h=650&w=940',\n",
              "   'large': 'https://images.pexels.com/photos/6941022/pexels-photo-6941022.jpeg?auto=compress&cs=tinysrgb&h=650&w=940',\n",
              "   'medium': 'https://images.pexels.com/photos/6941022/pexels-photo-6941022.jpeg?auto=compress&cs=tinysrgb&h=350',\n",
              "   'small': 'https://images.pexels.com/photos/6941022/pexels-photo-6941022.jpeg?auto=compress&cs=tinysrgb&h=130',\n",
              "   'portrait': 'https://images.pexels.com/photos/6941022/pexels-photo-6941022.jpeg?auto=compress&cs=tinysrgb&fit=crop&h=1200&w=800',\n",
              "   'landscape': 'https://images.pexels.com/photos/6941022/pexels-photo-6941022.jpeg?auto=compress&cs=tinysrgb&fit=crop&h=627&w=1200',\n",
              "   'tiny': 'https://images.pexels.com/photos/6941022/pexels-photo-6941022.jpeg?auto=compress&cs=tinysrgb&dpr=1&fit=crop&h=200&w=280'},\n",
              "  'liked': False,\n",
              "  'alt': 'Crop faceless person with tasty fried chicken in hands on yellow background in light studio'},\n",
              " {'id': 6287530,\n",
              "  'width': 3360,\n",
              "  'height': 5040,\n",
              "  'url': 'https://www.pexels.com/photo/crop-unrecognizable-chef-grating-cheese-on-spaghetti-6287530/',\n",
              "  'photographer': 'Klaus Nielsen',\n",
              "  'photographer_url': 'https://www.pexels.com/@klaus-nielsen',\n",
              "  'photographer_id': 6928139,\n",
              "  'avg_color': '#524B3B',\n",
              "  'src': {'original': 'https://images.pexels.com/photos/6287530/pexels-photo-6287530.jpeg',\n",
              "   'large2x': 'https://images.pexels.com/photos/6287530/pexels-photo-6287530.jpeg?auto=compress&cs=tinysrgb&dpr=2&h=650&w=940',\n",
              "   'large': 'https://images.pexels.com/photos/6287530/pexels-photo-6287530.jpeg?auto=compress&cs=tinysrgb&h=650&w=940',\n",
              "   'medium': 'https://images.pexels.com/photos/6287530/pexels-photo-6287530.jpeg?auto=compress&cs=tinysrgb&h=350',\n",
              "   'small': 'https://images.pexels.com/photos/6287530/pexels-photo-6287530.jpeg?auto=compress&cs=tinysrgb&h=130',\n",
              "   'portrait': 'https://images.pexels.com/photos/6287530/pexels-photo-6287530.jpeg?auto=compress&cs=tinysrgb&fit=crop&h=1200&w=800',\n",
              "   'landscape': 'https://images.pexels.com/photos/6287530/pexels-photo-6287530.jpeg?auto=compress&cs=tinysrgb&fit=crop&h=627&w=1200',\n",
              "   'tiny': 'https://images.pexels.com/photos/6287530/pexels-photo-6287530.jpeg?auto=compress&cs=tinysrgb&dpr=1&fit=crop&h=200&w=280'},\n",
              "  'liked': False,\n",
              "  'alt': 'Crop anonymous female chef grating fresh cheese on yummy spaghetti with tomato sauce on white plate'},\n",
              " {'id': 7525114,\n",
              "  'width': 3180,\n",
              "  'height': 4779,\n",
              "  'url': 'https://www.pexels.com/photo/crop-cook-squeezing-cream-on-cupcakes-7525114/',\n",
              "  'photographer': 'SHVETS production',\n",
              "  'photographer_url': 'https://www.pexels.com/@shvets-production',\n",
              "  'photographer_id': 30353109,\n",
              "  'avg_color': '#B69D85',\n",
              "  'src': {'original': 'https://images.pexels.com/photos/7525114/pexels-photo-7525114.jpeg',\n",
              "   'large2x': 'https://images.pexels.com/photos/7525114/pexels-photo-7525114.jpeg?auto=compress&cs=tinysrgb&dpr=2&h=650&w=940',\n",
              "   'large': 'https://images.pexels.com/photos/7525114/pexels-photo-7525114.jpeg?auto=compress&cs=tinysrgb&h=650&w=940',\n",
              "   'medium': 'https://images.pexels.com/photos/7525114/pexels-photo-7525114.jpeg?auto=compress&cs=tinysrgb&h=350',\n",
              "   'small': 'https://images.pexels.com/photos/7525114/pexels-photo-7525114.jpeg?auto=compress&cs=tinysrgb&h=130',\n",
              "   'portrait': 'https://images.pexels.com/photos/7525114/pexels-photo-7525114.jpeg?auto=compress&cs=tinysrgb&fit=crop&h=1200&w=800',\n",
              "   'landscape': 'https://images.pexels.com/photos/7525114/pexels-photo-7525114.jpeg?auto=compress&cs=tinysrgb&fit=crop&h=627&w=1200',\n",
              "   'tiny': 'https://images.pexels.com/photos/7525114/pexels-photo-7525114.jpeg?auto=compress&cs=tinysrgb&dpr=1&fit=crop&h=200&w=280'},\n",
              "  'liked': False,\n",
              "  'alt': 'High angle of crop unrecognizable confectioner with pastry bag squeezing white cream on cupcakes'},\n",
              " {'id': 7525159,\n",
              "  'width': 3880,\n",
              "  'height': 5831,\n",
              "  'url': 'https://www.pexels.com/photo/crop-woman-decorating-cake-with-chocolate-7525159/',\n",
              "  'photographer': 'SHVETS production',\n",
              "  'photographer_url': 'https://www.pexels.com/@shvets-production',\n",
              "  'photographer_id': 30353109,\n",
              "  'avg_color': '#CAC2B3',\n",
              "  'src': {'original': 'https://images.pexels.com/photos/7525159/pexels-photo-7525159.jpeg',\n",
              "   'large2x': 'https://images.pexels.com/photos/7525159/pexels-photo-7525159.jpeg?auto=compress&cs=tinysrgb&dpr=2&h=650&w=940',\n",
              "   'large': 'https://images.pexels.com/photos/7525159/pexels-photo-7525159.jpeg?auto=compress&cs=tinysrgb&h=650&w=940',\n",
              "   'medium': 'https://images.pexels.com/photos/7525159/pexels-photo-7525159.jpeg?auto=compress&cs=tinysrgb&h=350',\n",
              "   'small': 'https://images.pexels.com/photos/7525159/pexels-photo-7525159.jpeg?auto=compress&cs=tinysrgb&h=130',\n",
              "   'portrait': 'https://images.pexels.com/photos/7525159/pexels-photo-7525159.jpeg?auto=compress&cs=tinysrgb&fit=crop&h=1200&w=800',\n",
              "   'landscape': 'https://images.pexels.com/photos/7525159/pexels-photo-7525159.jpeg?auto=compress&cs=tinysrgb&fit=crop&h=627&w=1200',\n",
              "   'tiny': 'https://images.pexels.com/photos/7525159/pexels-photo-7525159.jpeg?auto=compress&cs=tinysrgb&dpr=1&fit=crop&h=200&w=280'},\n",
              "  'liked': False,\n",
              "  'alt': 'Crop woman decorating cake with chocolate'},\n",
              " {'id': 7525182,\n",
              "  'width': 3776,\n",
              "  'height': 5675,\n",
              "  'url': 'https://www.pexels.com/photo/woman-with-decorated-cake-on-stand-and-cupcakes-in-box-7525182/',\n",
              "  'photographer': 'SHVETS production',\n",
              "  'photographer_url': 'https://www.pexels.com/@shvets-production',\n",
              "  'photographer_id': 30353109,\n",
              "  'avg_color': '#BAB19A',\n",
              "  'src': {'original': 'https://images.pexels.com/photos/7525182/pexels-photo-7525182.jpeg',\n",
              "   'large2x': 'https://images.pexels.com/photos/7525182/pexels-photo-7525182.jpeg?auto=compress&cs=tinysrgb&dpr=2&h=650&w=940',\n",
              "   'large': 'https://images.pexels.com/photos/7525182/pexels-photo-7525182.jpeg?auto=compress&cs=tinysrgb&h=650&w=940',\n",
              "   'medium': 'https://images.pexels.com/photos/7525182/pexels-photo-7525182.jpeg?auto=compress&cs=tinysrgb&h=350',\n",
              "   'small': 'https://images.pexels.com/photos/7525182/pexels-photo-7525182.jpeg?auto=compress&cs=tinysrgb&h=130',\n",
              "   'portrait': 'https://images.pexels.com/photos/7525182/pexels-photo-7525182.jpeg?auto=compress&cs=tinysrgb&fit=crop&h=1200&w=800',\n",
              "   'landscape': 'https://images.pexels.com/photos/7525182/pexels-photo-7525182.jpeg?auto=compress&cs=tinysrgb&fit=crop&h=627&w=1200',\n",
              "   'tiny': 'https://images.pexels.com/photos/7525182/pexels-photo-7525182.jpeg?auto=compress&cs=tinysrgb&dpr=1&fit=crop&h=200&w=280'},\n",
              "  'liked': False,\n",
              "  'alt': 'Crop unrecognizable female confectioner with delicious homemade cake decorated with chocolate glaze on stand and berries and cupcakes in gift box'},\n",
              " {'id': 5947062,\n",
              "  'width': 3360,\n",
              "  'height': 5040,\n",
              "  'url': 'https://www.pexels.com/photo/ceramic-cup-of-chai-tea-with-cinnamon-and-star-anise-on-linen-fabric-5947062/',\n",
              "  'photographer': 'Charlotte May',\n",
              "  'photographer_url': 'https://www.pexels.com/@charlotte-may',\n",
              "  'photographer_id': 3660112,\n",
              "  'avg_color': '#B2A48D',\n",
              "  'src': {'original': 'https://images.pexels.com/photos/5947062/pexels-photo-5947062.jpeg',\n",
              "   'large2x': 'https://images.pexels.com/photos/5947062/pexels-photo-5947062.jpeg?auto=compress&cs=tinysrgb&dpr=2&h=650&w=940',\n",
              "   'large': 'https://images.pexels.com/photos/5947062/pexels-photo-5947062.jpeg?auto=compress&cs=tinysrgb&h=650&w=940',\n",
              "   'medium': 'https://images.pexels.com/photos/5947062/pexels-photo-5947062.jpeg?auto=compress&cs=tinysrgb&h=350',\n",
              "   'small': 'https://images.pexels.com/photos/5947062/pexels-photo-5947062.jpeg?auto=compress&cs=tinysrgb&h=130',\n",
              "   'portrait': 'https://images.pexels.com/photos/5947062/pexels-photo-5947062.jpeg?auto=compress&cs=tinysrgb&fit=crop&h=1200&w=800',\n",
              "   'landscape': 'https://images.pexels.com/photos/5947062/pexels-photo-5947062.jpeg?auto=compress&cs=tinysrgb&fit=crop&h=627&w=1200',\n",
              "   'tiny': 'https://images.pexels.com/photos/5947062/pexels-photo-5947062.jpeg?auto=compress&cs=tinysrgb&dpr=1&fit=crop&h=200&w=280'},\n",
              "  'liked': False,\n",
              "  'alt': 'From above composition of tasty homemade chai tea served in ceramic mug with star anise on sticks of cinnamon and other spices placed on gray linen tablecloth'},\n",
              " {'id': 6061743,\n",
              "  'width': 6000,\n",
              "  'height': 4000,\n",
              "  'url': 'https://www.pexels.com/photo/person-holding-a-tray-with-different-shapes-of-brown-cookies-6061743/',\n",
              "  'photographer': 'Nicole Michalou',\n",
              "  'photographer_url': 'https://www.pexels.com/@nicole-michalou',\n",
              "  'photographer_id': 3674679,\n",
              "  'avg_color': '#C7B6A7',\n",
              "  'src': {'original': 'https://images.pexels.com/photos/6061743/pexels-photo-6061743.jpeg',\n",
              "   'large2x': 'https://images.pexels.com/photos/6061743/pexels-photo-6061743.jpeg?auto=compress&cs=tinysrgb&dpr=2&h=650&w=940',\n",
              "   'large': 'https://images.pexels.com/photos/6061743/pexels-photo-6061743.jpeg?auto=compress&cs=tinysrgb&h=650&w=940',\n",
              "   'medium': 'https://images.pexels.com/photos/6061743/pexels-photo-6061743.jpeg?auto=compress&cs=tinysrgb&h=350',\n",
              "   'small': 'https://images.pexels.com/photos/6061743/pexels-photo-6061743.jpeg?auto=compress&cs=tinysrgb&h=130',\n",
              "   'portrait': 'https://images.pexels.com/photos/6061743/pexels-photo-6061743.jpeg?auto=compress&cs=tinysrgb&fit=crop&h=1200&w=800',\n",
              "   'landscape': 'https://images.pexels.com/photos/6061743/pexels-photo-6061743.jpeg?auto=compress&cs=tinysrgb&fit=crop&h=627&w=1200',\n",
              "   'tiny': 'https://images.pexels.com/photos/6061743/pexels-photo-6061743.jpeg?auto=compress&cs=tinysrgb&dpr=1&fit=crop&h=200&w=280'},\n",
              "  'liked': False,\n",
              "  'alt': 'Person Holding a Tray With Different Shapes of Brown Cookies'},\n",
              " {'id': 6287522,\n",
              "  'width': 3360,\n",
              "  'height': 5040,\n",
              "  'url': 'https://www.pexels.com/photo/crop-faceless-housewife-grating-cheese-in-kitchen-6287522/',\n",
              "  'photographer': 'Klaus Nielsen',\n",
              "  'photographer_url': 'https://www.pexels.com/@klaus-nielsen',\n",
              "  'photographer_id': 6928139,\n",
              "  'avg_color': '#383227',\n",
              "  'src': {'original': 'https://images.pexels.com/photos/6287522/pexels-photo-6287522.jpeg',\n",
              "   'large2x': 'https://images.pexels.com/photos/6287522/pexels-photo-6287522.jpeg?auto=compress&cs=tinysrgb&dpr=2&h=650&w=940',\n",
              "   'large': 'https://images.pexels.com/photos/6287522/pexels-photo-6287522.jpeg?auto=compress&cs=tinysrgb&h=650&w=940',\n",
              "   'medium': 'https://images.pexels.com/photos/6287522/pexels-photo-6287522.jpeg?auto=compress&cs=tinysrgb&h=350',\n",
              "   'small': 'https://images.pexels.com/photos/6287522/pexels-photo-6287522.jpeg?auto=compress&cs=tinysrgb&h=130',\n",
              "   'portrait': 'https://images.pexels.com/photos/6287522/pexels-photo-6287522.jpeg?auto=compress&cs=tinysrgb&fit=crop&h=1200&w=800',\n",
              "   'landscape': 'https://images.pexels.com/photos/6287522/pexels-photo-6287522.jpeg?auto=compress&cs=tinysrgb&fit=crop&h=627&w=1200',\n",
              "   'tiny': 'https://images.pexels.com/photos/6287522/pexels-photo-6287522.jpeg?auto=compress&cs=tinysrgb&dpr=1&fit=crop&h=200&w=280'},\n",
              "  'liked': False,\n",
              "  'alt': 'Crop unrecognizable female chef grating hard cheese on grater while cooking in kitchen'},\n",
              " {'id': 6287472,\n",
              "  'width': 3360,\n",
              "  'height': 5040,\n",
              "  'url': 'https://www.pexels.com/photo/saucepan-with-delicious-bolognese-sauce-on-stove-6287472/',\n",
              "  'photographer': 'Klaus Nielsen',\n",
              "  'photographer_url': 'https://www.pexels.com/@klaus-nielsen',\n",
              "  'photographer_id': 6928139,\n",
              "  'avg_color': '#6D533A',\n",
              "  'src': {'original': 'https://images.pexels.com/photos/6287472/pexels-photo-6287472.jpeg',\n",
              "   'large2x': 'https://images.pexels.com/photos/6287472/pexels-photo-6287472.jpeg?auto=compress&cs=tinysrgb&dpr=2&h=650&w=940',\n",
              "   'large': 'https://images.pexels.com/photos/6287472/pexels-photo-6287472.jpeg?auto=compress&cs=tinysrgb&h=650&w=940',\n",
              "   'medium': 'https://images.pexels.com/photos/6287472/pexels-photo-6287472.jpeg?auto=compress&cs=tinysrgb&h=350',\n",
              "   'small': 'https://images.pexels.com/photos/6287472/pexels-photo-6287472.jpeg?auto=compress&cs=tinysrgb&h=130',\n",
              "   'portrait': 'https://images.pexels.com/photos/6287472/pexels-photo-6287472.jpeg?auto=compress&cs=tinysrgb&fit=crop&h=1200&w=800',\n",
              "   'landscape': 'https://images.pexels.com/photos/6287472/pexels-photo-6287472.jpeg?auto=compress&cs=tinysrgb&fit=crop&h=627&w=1200',\n",
              "   'tiny': 'https://images.pexels.com/photos/6287472/pexels-photo-6287472.jpeg?auto=compress&cs=tinysrgb&dpr=1&fit=crop&h=200&w=280'},\n",
              "  'liked': False,\n",
              "  'alt': 'High angle freshly cooked yummy bolognese sauce in spoon and saucepan placed on stove in kitchen'},\n",
              " {'id': 6957997,\n",
              "  'width': 3963,\n",
              "  'height': 5944,\n",
              "  'url': 'https://www.pexels.com/photo/woman-cooking-near-little-cute-girl-on-table-6957997/',\n",
              "  'photographer': 'Mikhail Nilov',\n",
              "  'photographer_url': 'https://www.pexels.com/@mikhail-nilov',\n",
              "  'photographer_id': 11437196,\n",
              "  'avg_color': '#C3BCAB',\n",
              "  'src': {'original': 'https://images.pexels.com/photos/6957997/pexels-photo-6957997.jpeg',\n",
              "   'large2x': 'https://images.pexels.com/photos/6957997/pexels-photo-6957997.jpeg?auto=compress&cs=tinysrgb&dpr=2&h=650&w=940',\n",
              "   'large': 'https://images.pexels.com/photos/6957997/pexels-photo-6957997.jpeg?auto=compress&cs=tinysrgb&h=650&w=940',\n",
              "   'medium': 'https://images.pexels.com/photos/6957997/pexels-photo-6957997.jpeg?auto=compress&cs=tinysrgb&h=350',\n",
              "   'small': 'https://images.pexels.com/photos/6957997/pexels-photo-6957997.jpeg?auto=compress&cs=tinysrgb&h=130',\n",
              "   'portrait': 'https://images.pexels.com/photos/6957997/pexels-photo-6957997.jpeg?auto=compress&cs=tinysrgb&fit=crop&h=1200&w=800',\n",
              "   'landscape': 'https://images.pexels.com/photos/6957997/pexels-photo-6957997.jpeg?auto=compress&cs=tinysrgb&fit=crop&h=627&w=1200',\n",
              "   'tiny': 'https://images.pexels.com/photos/6957997/pexels-photo-6957997.jpeg?auto=compress&cs=tinysrgb&dpr=1&fit=crop&h=200&w=280'},\n",
              "  'liked': False,\n",
              "  'alt': 'Woman cooking near little cute girl on table'},\n",
              " {'id': 7262889,\n",
              "  'width': 3360,\n",
              "  'height': 5040,\n",
              "  'url': 'https://www.pexels.com/photo/wicker-basket-with-vegetables-on-stool-in-kitchen-7262889/',\n",
              "  'photographer': 'Sarah  Chai',\n",
              "  'photographer_url': 'https://www.pexels.com/@sarah-chai',\n",
              "  'photographer_id': 33201683,\n",
              "  'avg_color': '#8F806D',\n",
              "  'src': {'original': 'https://images.pexels.com/photos/7262889/pexels-photo-7262889.jpeg',\n",
              "   'large2x': 'https://images.pexels.com/photos/7262889/pexels-photo-7262889.jpeg?auto=compress&cs=tinysrgb&dpr=2&h=650&w=940',\n",
              "   'large': 'https://images.pexels.com/photos/7262889/pexels-photo-7262889.jpeg?auto=compress&cs=tinysrgb&h=650&w=940',\n",
              "   'medium': 'https://images.pexels.com/photos/7262889/pexels-photo-7262889.jpeg?auto=compress&cs=tinysrgb&h=350',\n",
              "   'small': 'https://images.pexels.com/photos/7262889/pexels-photo-7262889.jpeg?auto=compress&cs=tinysrgb&h=130',\n",
              "   'portrait': 'https://images.pexels.com/photos/7262889/pexels-photo-7262889.jpeg?auto=compress&cs=tinysrgb&fit=crop&h=1200&w=800',\n",
              "   'landscape': 'https://images.pexels.com/photos/7262889/pexels-photo-7262889.jpeg?auto=compress&cs=tinysrgb&fit=crop&h=627&w=1200',\n",
              "   'tiny': 'https://images.pexels.com/photos/7262889/pexels-photo-7262889.jpeg?auto=compress&cs=tinysrgb&dpr=1&fit=crop&h=200&w=280'},\n",
              "  'liked': False,\n",
              "  'alt': 'Wicker basket with vegetables on stool in kitchen'},\n",
              " {'id': 4199096,\n",
              "  'width': 4480,\n",
              "  'height': 6720,\n",
              "  'url': 'https://www.pexels.com/photo/golden-spoon-with-mix-of-herbs-and-spices-4199096/',\n",
              "  'photographer': 'Karolina Grabowska',\n",
              "  'photographer_url': 'https://www.pexels.com/@karolina-grabowska',\n",
              "  'photographer_id': 2332540,\n",
              "  'avg_color': '#D8D9D9',\n",
              "  'src': {'original': 'https://images.pexels.com/photos/4199096/pexels-photo-4199096.jpeg',\n",
              "   'large2x': 'https://images.pexels.com/photos/4199096/pexels-photo-4199096.jpeg?auto=compress&cs=tinysrgb&dpr=2&h=650&w=940',\n",
              "   'large': 'https://images.pexels.com/photos/4199096/pexels-photo-4199096.jpeg?auto=compress&cs=tinysrgb&h=650&w=940',\n",
              "   'medium': 'https://images.pexels.com/photos/4199096/pexels-photo-4199096.jpeg?auto=compress&cs=tinysrgb&h=350',\n",
              "   'small': 'https://images.pexels.com/photos/4199096/pexels-photo-4199096.jpeg?auto=compress&cs=tinysrgb&h=130',\n",
              "   'portrait': 'https://images.pexels.com/photos/4199096/pexels-photo-4199096.jpeg?auto=compress&cs=tinysrgb&fit=crop&h=1200&w=800',\n",
              "   'landscape': 'https://images.pexels.com/photos/4199096/pexels-photo-4199096.jpeg?auto=compress&cs=tinysrgb&fit=crop&h=627&w=1200',\n",
              "   'tiny': 'https://images.pexels.com/photos/4199096/pexels-photo-4199096.jpeg?auto=compress&cs=tinysrgb&dpr=1&fit=crop&h=200&w=280'},\n",
              "  'liked': False,\n",
              "  'alt': 'Top view of metal spoon filled with mixed herbs and spices used for healthy gourmet food preparing placed on marble surface'},\n",
              " {'id': 4022182,\n",
              "  'width': 5472,\n",
              "  'height': 3648,\n",
              "  'url': 'https://www.pexels.com/photo/bulb-of-garlic-and-scattered-cloves-of-garlic-in-peel-on-gray-table-4022182/',\n",
              "  'photographer': 'Karolina Grabowska',\n",
              "  'photographer_url': 'https://www.pexels.com/@karolina-grabowska',\n",
              "  'photographer_id': 2332540,\n",
              "  'avg_color': '#CBC6C5',\n",
              "  'src': {'original': 'https://images.pexels.com/photos/4022182/pexels-photo-4022182.jpeg',\n",
              "   'large2x': 'https://images.pexels.com/photos/4022182/pexels-photo-4022182.jpeg?auto=compress&cs=tinysrgb&dpr=2&h=650&w=940',\n",
              "   'large': 'https://images.pexels.com/photos/4022182/pexels-photo-4022182.jpeg?auto=compress&cs=tinysrgb&h=650&w=940',\n",
              "   'medium': 'https://images.pexels.com/photos/4022182/pexels-photo-4022182.jpeg?auto=compress&cs=tinysrgb&h=350',\n",
              "   'small': 'https://images.pexels.com/photos/4022182/pexels-photo-4022182.jpeg?auto=compress&cs=tinysrgb&h=130',\n",
              "   'portrait': 'https://images.pexels.com/photos/4022182/pexels-photo-4022182.jpeg?auto=compress&cs=tinysrgb&fit=crop&h=1200&w=800',\n",
              "   'landscape': 'https://images.pexels.com/photos/4022182/pexels-photo-4022182.jpeg?auto=compress&cs=tinysrgb&fit=crop&h=627&w=1200',\n",
              "   'tiny': 'https://images.pexels.com/photos/4022182/pexels-photo-4022182.jpeg?auto=compress&cs=tinysrgb&dpr=1&fit=crop&h=200&w=280'},\n",
              "  'liked': False,\n",
              "  'alt': 'Top view of process separation of garlic cloves before cooking placed on gray background'},\n",
              " {'id': 4197822,\n",
              "  'width': 3787,\n",
              "  'height': 5681,\n",
              "  'url': 'https://www.pexels.com/photo/composition-of-fresh-tomatoes-and-herbs-4197822/',\n",
              "  'photographer': 'Karolina Grabowska',\n",
              "  'photographer_url': 'https://www.pexels.com/@karolina-grabowska',\n",
              "  'photographer_id': 2332540,\n",
              "  'avg_color': '#D0BFA7',\n",
              "  'src': {'original': 'https://images.pexels.com/photos/4197822/pexels-photo-4197822.jpeg',\n",
              "   'large2x': 'https://images.pexels.com/photos/4197822/pexels-photo-4197822.jpeg?auto=compress&cs=tinysrgb&dpr=2&h=650&w=940',\n",
              "   'large': 'https://images.pexels.com/photos/4197822/pexels-photo-4197822.jpeg?auto=compress&cs=tinysrgb&h=650&w=940',\n",
              "   'medium': 'https://images.pexels.com/photos/4197822/pexels-photo-4197822.jpeg?auto=compress&cs=tinysrgb&h=350',\n",
              "   'small': 'https://images.pexels.com/photos/4197822/pexels-photo-4197822.jpeg?auto=compress&cs=tinysrgb&h=130',\n",
              "   'portrait': 'https://images.pexels.com/photos/4197822/pexels-photo-4197822.jpeg?auto=compress&cs=tinysrgb&fit=crop&h=1200&w=800',\n",
              "   'landscape': 'https://images.pexels.com/photos/4197822/pexels-photo-4197822.jpeg?auto=compress&cs=tinysrgb&fit=crop&h=627&w=1200',\n",
              "   'tiny': 'https://images.pexels.com/photos/4197822/pexels-photo-4197822.jpeg?auto=compress&cs=tinysrgb&dpr=1&fit=crop&h=200&w=280'},\n",
              "  'liked': False,\n",
              "  'alt': 'Top view of fresh ripe tomatoes placed on wooden cutting board near bunch of parsley and dill on marble surface'},\n",
              " {'id': 4202323,\n",
              "  'width': 3509,\n",
              "  'height': 5263,\n",
              "  'url': 'https://www.pexels.com/photo/green-seedlings-of-parsley-on-marble-desk-4202323/',\n",
              "  'photographer': 'Karolina Grabowska',\n",
              "  'photographer_url': 'https://www.pexels.com/@karolina-grabowska',\n",
              "  'photographer_id': 2332540,\n",
              "  'avg_color': '#B9BBB3',\n",
              "  'src': {'original': 'https://images.pexels.com/photos/4202323/pexels-photo-4202323.jpeg',\n",
              "   'large2x': 'https://images.pexels.com/photos/4202323/pexels-photo-4202323.jpeg?auto=compress&cs=tinysrgb&dpr=2&h=650&w=940',\n",
              "   'large': 'https://images.pexels.com/photos/4202323/pexels-photo-4202323.jpeg?auto=compress&cs=tinysrgb&h=650&w=940',\n",
              "   'medium': 'https://images.pexels.com/photos/4202323/pexels-photo-4202323.jpeg?auto=compress&cs=tinysrgb&h=350',\n",
              "   'small': 'https://images.pexels.com/photos/4202323/pexels-photo-4202323.jpeg?auto=compress&cs=tinysrgb&h=130',\n",
              "   'portrait': 'https://images.pexels.com/photos/4202323/pexels-photo-4202323.jpeg?auto=compress&cs=tinysrgb&fit=crop&h=1200&w=800',\n",
              "   'landscape': 'https://images.pexels.com/photos/4202323/pexels-photo-4202323.jpeg?auto=compress&cs=tinysrgb&fit=crop&h=627&w=1200',\n",
              "   'tiny': 'https://images.pexels.com/photos/4202323/pexels-photo-4202323.jpeg?auto=compress&cs=tinysrgb&dpr=1&fit=crop&h=200&w=280'},\n",
              "  'liked': False,\n",
              "  'alt': 'Green seedlings of parsley on marble desk'},\n",
              " {'id': 6621423,\n",
              "  'width': 3648,\n",
              "  'height': 5472,\n",
              "  'url': 'https://www.pexels.com/photo/ingredients-for-homemade-scrub-with-rosemary-6621423/',\n",
              "  'photographer': 'Monstera',\n",
              "  'photographer_url': 'https://www.pexels.com/@gabby-k',\n",
              "  'photographer_id': 3372733,\n",
              "  'avg_color': '#403B2F',\n",
              "  'src': {'original': 'https://images.pexels.com/photos/6621423/pexels-photo-6621423.jpeg',\n",
              "   'large2x': 'https://images.pexels.com/photos/6621423/pexels-photo-6621423.jpeg?auto=compress&cs=tinysrgb&dpr=2&h=650&w=940',\n",
              "   'large': 'https://images.pexels.com/photos/6621423/pexels-photo-6621423.jpeg?auto=compress&cs=tinysrgb&h=650&w=940',\n",
              "   'medium': 'https://images.pexels.com/photos/6621423/pexels-photo-6621423.jpeg?auto=compress&cs=tinysrgb&h=350',\n",
              "   'small': 'https://images.pexels.com/photos/6621423/pexels-photo-6621423.jpeg?auto=compress&cs=tinysrgb&h=130',\n",
              "   'portrait': 'https://images.pexels.com/photos/6621423/pexels-photo-6621423.jpeg?auto=compress&cs=tinysrgb&fit=crop&h=1200&w=800',\n",
              "   'landscape': 'https://images.pexels.com/photos/6621423/pexels-photo-6621423.jpeg?auto=compress&cs=tinysrgb&fit=crop&h=627&w=1200',\n",
              "   'tiny': 'https://images.pexels.com/photos/6621423/pexels-photo-6621423.jpeg?auto=compress&cs=tinysrgb&dpr=1&fit=crop&h=200&w=280'},\n",
              "  'liked': False,\n",
              "  'alt': 'Ingredients for homemade scrub with rosemary'}]"
            ]
          },
          "metadata": {},
          "execution_count": 6
        }
      ],
      "source": [
        "photos = response['photos']\n",
        "\n",
        "photos"
      ]
    },
    {
      "cell_type": "code",
      "source": [
        "for key in photos:\n",
        "  print(key['src']['small'])"
      ],
      "metadata": {
        "colab": {
          "base_uri": "https://localhost:8080/"
        },
        "id": "1N8iDzlUxz2p",
        "outputId": "9ba08f0e-8bdb-4a54-f8f2-7b71dbe53d69"
      },
      "execution_count": 7,
      "outputs": [
        {
          "output_type": "stream",
          "name": "stdout",
          "text": [
            "https://images.pexels.com/photos/7525172/pexels-photo-7525172.jpeg?auto=compress&cs=tinysrgb&h=130\n",
            "https://images.pexels.com/photos/6941028/pexels-photo-6941028.jpeg?auto=compress&cs=tinysrgb&h=130\n",
            "https://images.pexels.com/photos/4022140/pexels-photo-4022140.jpeg?auto=compress&cs=tinysrgb&h=130\n",
            "https://images.pexels.com/photos/6287219/pexels-photo-6287219.jpeg?auto=compress&cs=tinysrgb&h=130\n",
            "https://images.pexels.com/photos/5946966/pexels-photo-5946966.jpeg?auto=compress&cs=tinysrgb&h=130\n",
            "https://images.pexels.com/photos/6287261/pexels-photo-6287261.jpeg?auto=compress&cs=tinysrgb&h=130\n",
            "https://images.pexels.com/photos/6287581/pexels-photo-6287581.jpeg?auto=compress&cs=tinysrgb&h=130\n",
            "https://images.pexels.com/photos/7144445/pexels-photo-7144445.jpeg?auto=compress&cs=tinysrgb&h=130\n",
            "https://images.pexels.com/photos/7144977/pexels-photo-7144977.jpeg?auto=compress&cs=tinysrgb&h=130\n",
            "https://images.pexels.com/photos/4198376/pexels-photo-4198376.jpeg?auto=compress&cs=tinysrgb&h=130\n",
            "https://images.pexels.com/photos/4198183/pexels-photo-4198183.jpeg?auto=compress&cs=tinysrgb&h=130\n",
            "https://images.pexels.com/photos/4940719/pexels-photo-4940719.jpeg?auto=compress&cs=tinysrgb&h=130\n",
            "https://images.pexels.com/photos/6294381/pexels-photo-6294381.jpeg?auto=compress&cs=tinysrgb&h=130\n",
            "https://images.pexels.com/photos/6287554/pexels-photo-6287554.jpeg?auto=compress&cs=tinysrgb&h=130\n",
            "https://images.pexels.com/photos/4198417/pexels-photo-4198417.jpeg?auto=compress&cs=tinysrgb&h=130\n",
            "https://images.pexels.com/photos/4040701/pexels-photo-4040701.jpeg?auto=compress&cs=tinysrgb&h=130\n",
            "https://images.pexels.com/photos/4210806/pexels-photo-4210806.jpeg?auto=compress&cs=tinysrgb&h=130\n",
            "https://images.pexels.com/photos/6294354/pexels-photo-6294354.jpeg?auto=compress&cs=tinysrgb&h=130\n",
            "https://images.pexels.com/photos/6375547/pexels-photo-6375547.jpeg?auto=compress&cs=tinysrgb&h=130\n",
            "https://images.pexels.com/photos/6287517/pexels-photo-6287517.jpeg?auto=compress&cs=tinysrgb&h=130\n",
            "https://images.pexels.com/photos/6287295/pexels-photo-6287295.jpeg?auto=compress&cs=tinysrgb&h=130\n",
            "https://images.pexels.com/photos/7809735/pexels-photo-7809735.jpeg?auto=compress&cs=tinysrgb&h=130\n",
            "https://images.pexels.com/photos/7144974/pexels-photo-7144974.jpeg?auto=compress&cs=tinysrgb&h=130\n",
            "https://images.pexels.com/photos/6157039/pexels-photo-6157039.jpeg?auto=compress&cs=tinysrgb&h=130\n",
            "https://images.pexels.com/photos/6287224/pexels-photo-6287224.jpeg?auto=compress&cs=tinysrgb&h=130\n",
            "https://images.pexels.com/photos/6287283/pexels-photo-6287283.jpeg?auto=compress&cs=tinysrgb&h=130\n",
            "https://images.pexels.com/photos/6294395/pexels-photo-6294395.jpeg?auto=compress&cs=tinysrgb&h=130\n",
            "https://images.pexels.com/photos/7525161/pexels-photo-7525161.jpeg?auto=compress&cs=tinysrgb&h=130\n",
            "https://images.pexels.com/photos/5907829/pexels-photo-5907829.jpeg?auto=compress&cs=tinysrgb&h=130\n",
            "https://images.pexels.com/photos/6210848/pexels-photo-6210848.jpeg?auto=compress&cs=tinysrgb&h=130\n",
            "https://images.pexels.com/photos/6287539/pexels-photo-6287539.jpeg?auto=compress&cs=tinysrgb&h=130\n",
            "https://images.pexels.com/photos/6957998/pexels-photo-6957998.jpeg?auto=compress&cs=tinysrgb&h=130\n",
            "https://images.pexels.com/photos/4199060/pexels-photo-4199060.jpeg?auto=compress&cs=tinysrgb&h=130\n",
            "https://images.pexels.com/photos/4792402/pexels-photo-4792402.jpeg?auto=compress&cs=tinysrgb&h=130\n",
            "https://images.pexels.com/photos/6941022/pexels-photo-6941022.jpeg?auto=compress&cs=tinysrgb&h=130\n",
            "https://images.pexels.com/photos/6287530/pexels-photo-6287530.jpeg?auto=compress&cs=tinysrgb&h=130\n",
            "https://images.pexels.com/photos/7525114/pexels-photo-7525114.jpeg?auto=compress&cs=tinysrgb&h=130\n",
            "https://images.pexels.com/photos/7525159/pexels-photo-7525159.jpeg?auto=compress&cs=tinysrgb&h=130\n",
            "https://images.pexels.com/photos/7525182/pexels-photo-7525182.jpeg?auto=compress&cs=tinysrgb&h=130\n",
            "https://images.pexels.com/photos/5947062/pexels-photo-5947062.jpeg?auto=compress&cs=tinysrgb&h=130\n",
            "https://images.pexels.com/photos/6061743/pexels-photo-6061743.jpeg?auto=compress&cs=tinysrgb&h=130\n",
            "https://images.pexels.com/photos/6287522/pexels-photo-6287522.jpeg?auto=compress&cs=tinysrgb&h=130\n",
            "https://images.pexels.com/photos/6287472/pexels-photo-6287472.jpeg?auto=compress&cs=tinysrgb&h=130\n",
            "https://images.pexels.com/photos/6957997/pexels-photo-6957997.jpeg?auto=compress&cs=tinysrgb&h=130\n",
            "https://images.pexels.com/photos/7262889/pexels-photo-7262889.jpeg?auto=compress&cs=tinysrgb&h=130\n",
            "https://images.pexels.com/photos/4199096/pexels-photo-4199096.jpeg?auto=compress&cs=tinysrgb&h=130\n",
            "https://images.pexels.com/photos/4022182/pexels-photo-4022182.jpeg?auto=compress&cs=tinysrgb&h=130\n",
            "https://images.pexels.com/photos/4197822/pexels-photo-4197822.jpeg?auto=compress&cs=tinysrgb&h=130\n",
            "https://images.pexels.com/photos/4202323/pexels-photo-4202323.jpeg?auto=compress&cs=tinysrgb&h=130\n",
            "https://images.pexels.com/photos/6621423/pexels-photo-6621423.jpeg?auto=compress&cs=tinysrgb&h=130\n"
          ]
        }
      ]
    },
    {
      "cell_type": "code",
      "source": [
        "for key in photos:\n",
        "  url = key['src']['small']\n",
        "  id_split = key['url'].split(\"-\")[-1]\n",
        "  filename = id_split.split(\"/\")[0]+\".jpeg\"\n",
        "  print(filename)"
      ],
      "metadata": {
        "colab": {
          "base_uri": "https://localhost:8080/"
        },
        "id": "OHnaejyiIeRu",
        "outputId": "bdb22ff6-8654-4262-e801-1fd94eb052c7"
      },
      "execution_count": 8,
      "outputs": [
        {
          "output_type": "stream",
          "name": "stdout",
          "text": [
            "7525172.jpeg\n",
            "6941028.jpeg\n",
            "4022140.jpeg\n",
            "6287219.jpeg\n",
            "5946966.jpeg\n",
            "6287261.jpeg\n",
            "6287581.jpeg\n",
            "7144445.jpeg\n",
            "7144977.jpeg\n",
            "4198376.jpeg\n",
            "4198183.jpeg\n",
            "4940719.jpeg\n",
            "6294381.jpeg\n",
            "6287554.jpeg\n",
            "4198417.jpeg\n",
            "4040701.jpeg\n",
            "4210806.jpeg\n",
            "6294354.jpeg\n",
            "6375547.jpeg\n",
            "6287517.jpeg\n",
            "6287295.jpeg\n",
            "7809735.jpeg\n",
            "7144974.jpeg\n",
            "6157039.jpeg\n",
            "6287224.jpeg\n",
            "6287283.jpeg\n",
            "6294395.jpeg\n",
            "7525161.jpeg\n",
            "5907829.jpeg\n",
            "6210848.jpeg\n",
            "6287539.jpeg\n",
            "6957998.jpeg\n",
            "4199060.jpeg\n",
            "4792402.jpeg\n",
            "6941022.jpeg\n",
            "6287530.jpeg\n",
            "7525114.jpeg\n",
            "7525159.jpeg\n",
            "7525182.jpeg\n",
            "5947062.jpeg\n",
            "6061743.jpeg\n",
            "6287522.jpeg\n",
            "6287472.jpeg\n",
            "6957997.jpeg\n",
            "7262889.jpeg\n",
            "4199096.jpeg\n",
            "4022182.jpeg\n",
            "4197822.jpeg\n",
            "4202323.jpeg\n",
            "6621423.jpeg\n"
          ]
        }
      ]
    },
    {
      "cell_type": "markdown",
      "source": [
        "Downloading images to a Google Drive folder"
      ],
      "metadata": {
        "id": "O9Sdm7nNEjiE"
      }
    },
    {
      "cell_type": "code",
      "source": [
        "\n",
        "for key in photos:\n",
        "  url = key['src']['small']\n",
        "  id_split = key['url'].split(\"-\")[-1]\n",
        "  filename = id_split.split(\"/\")[0]+\".jpeg\"\n",
        "  response = requests.get(url, headers = headers, stream = True)\n",
        "  if response.status_code == 200:\n",
        "    with open(os.path.join('drive','MyDrive','api_photo','image',filename), 'wb') as f:\n",
        "      f.write(response.content)"
      ],
      "metadata": {
        "id": "96TL6btQSchK"
      },
      "execution_count": 9,
      "outputs": []
    },
    {
      "cell_type": "markdown",
      "source": [
        "\n",
        "Labeling photos\n",
        "---\n",
        "\n"
      ],
      "metadata": {
        "id": "RVIuAD9_67uH"
      }
    },
    {
      "cell_type": "code",
      "source": [
        "!pip install opencv-python tensorflow labelme\n"
      ],
      "metadata": {
        "colab": {
          "base_uri": "https://localhost:8080/"
        },
        "id": "EzUh99Kt0veC",
        "outputId": "68aa88ab-642d-4c71-a7f0-9cda2049c6f6"
      },
      "execution_count": 10,
      "outputs": [
        {
          "output_type": "stream",
          "name": "stdout",
          "text": [
            "Looking in indexes: https://pypi.org/simple, https://us-python.pkg.dev/colab-wheels/public/simple/\n",
            "Requirement already satisfied: opencv-python in /usr/local/lib/python3.10/dist-packages (4.7.0.72)\n",
            "Requirement already satisfied: tensorflow in /usr/local/lib/python3.10/dist-packages (2.12.0)\n",
            "Collecting labelme\n",
            "  Downloading labelme-5.2.1.tar.gz (1.5 MB)\n",
            "\u001b[2K     \u001b[90m━━━━━━━━━━━━━━━━━━━━━━━━━━━━━━━━━━━━━━━━\u001b[0m \u001b[32m1.5/1.5 MB\u001b[0m \u001b[31m57.4 MB/s\u001b[0m eta \u001b[36m0:00:00\u001b[0m\n",
            "\u001b[?25h  Preparing metadata (setup.py) ... \u001b[?25l\u001b[?25hdone\n",
            "Requirement already satisfied: numpy>=1.21.2 in /usr/local/lib/python3.10/dist-packages (from opencv-python) (1.22.4)\n",
            "Requirement already satisfied: absl-py>=1.0.0 in /usr/local/lib/python3.10/dist-packages (from tensorflow) (1.4.0)\n",
            "Requirement already satisfied: astunparse>=1.6.0 in /usr/local/lib/python3.10/dist-packages (from tensorflow) (1.6.3)\n",
            "Requirement already satisfied: flatbuffers>=2.0 in /usr/local/lib/python3.10/dist-packages (from tensorflow) (23.3.3)\n",
            "Requirement already satisfied: gast<=0.4.0,>=0.2.1 in /usr/local/lib/python3.10/dist-packages (from tensorflow) (0.4.0)\n",
            "Requirement already satisfied: google-pasta>=0.1.1 in /usr/local/lib/python3.10/dist-packages (from tensorflow) (0.2.0)\n",
            "Requirement already satisfied: grpcio<2.0,>=1.24.3 in /usr/local/lib/python3.10/dist-packages (from tensorflow) (1.54.0)\n",
            "Requirement already satisfied: h5py>=2.9.0 in /usr/local/lib/python3.10/dist-packages (from tensorflow) (3.8.0)\n",
            "Requirement already satisfied: jax>=0.3.15 in /usr/local/lib/python3.10/dist-packages (from tensorflow) (0.4.10)\n",
            "Requirement already satisfied: keras<2.13,>=2.12.0 in /usr/local/lib/python3.10/dist-packages (from tensorflow) (2.12.0)\n",
            "Requirement already satisfied: libclang>=13.0.0 in /usr/local/lib/python3.10/dist-packages (from tensorflow) (16.0.0)\n",
            "Requirement already satisfied: opt-einsum>=2.3.2 in /usr/local/lib/python3.10/dist-packages (from tensorflow) (3.3.0)\n",
            "Requirement already satisfied: packaging in /usr/local/lib/python3.10/dist-packages (from tensorflow) (23.1)\n",
            "Requirement already satisfied: protobuf!=4.21.0,!=4.21.1,!=4.21.2,!=4.21.3,!=4.21.4,!=4.21.5,<5.0.0dev,>=3.20.3 in /usr/local/lib/python3.10/dist-packages (from tensorflow) (3.20.3)\n",
            "Requirement already satisfied: setuptools in /usr/local/lib/python3.10/dist-packages (from tensorflow) (67.7.2)\n",
            "Requirement already satisfied: six>=1.12.0 in /usr/local/lib/python3.10/dist-packages (from tensorflow) (1.16.0)\n",
            "Requirement already satisfied: tensorboard<2.13,>=2.12 in /usr/local/lib/python3.10/dist-packages (from tensorflow) (2.12.2)\n",
            "Requirement already satisfied: tensorflow-estimator<2.13,>=2.12.0 in /usr/local/lib/python3.10/dist-packages (from tensorflow) (2.12.0)\n",
            "Requirement already satisfied: termcolor>=1.1.0 in /usr/local/lib/python3.10/dist-packages (from tensorflow) (2.3.0)\n",
            "Requirement already satisfied: typing-extensions>=3.6.6 in /usr/local/lib/python3.10/dist-packages (from tensorflow) (4.5.0)\n",
            "Requirement already satisfied: wrapt<1.15,>=1.11.0 in /usr/local/lib/python3.10/dist-packages (from tensorflow) (1.14.1)\n",
            "Requirement already satisfied: tensorflow-io-gcs-filesystem>=0.23.1 in /usr/local/lib/python3.10/dist-packages (from tensorflow) (0.32.0)\n",
            "Collecting imgviz>=0.11 (from labelme)\n",
            "  Downloading imgviz-1.7.2-py3-none-any.whl (7.7 MB)\n",
            "\u001b[2K     \u001b[90m━━━━━━━━━━━━━━━━━━━━━━━━━━━━━━━━━━━━━━━━\u001b[0m \u001b[32m7.7/7.7 MB\u001b[0m \u001b[31m107.5 MB/s\u001b[0m eta \u001b[36m0:00:00\u001b[0m\n",
            "\u001b[?25hRequirement already satisfied: matplotlib in /usr/local/lib/python3.10/dist-packages (from labelme) (3.7.1)\n",
            "Requirement already satisfied: natsort>=7.1.0 in /usr/local/lib/python3.10/dist-packages (from labelme) (8.3.1)\n",
            "Requirement already satisfied: Pillow>=2.8 in /usr/local/lib/python3.10/dist-packages (from labelme) (8.4.0)\n",
            "Requirement already satisfied: PyYAML in /usr/local/lib/python3.10/dist-packages (from labelme) (6.0)\n",
            "Collecting qtpy!=1.11.2 (from labelme)\n",
            "  Downloading QtPy-2.3.1-py3-none-any.whl (84 kB)\n",
            "\u001b[2K     \u001b[90m━━━━━━━━━━━━━━━━━━━━━━━━━━━━━━━━━━━━━━━━\u001b[0m \u001b[32m84.9/84.9 kB\u001b[0m \u001b[31m9.3 MB/s\u001b[0m eta \u001b[36m0:00:00\u001b[0m\n",
            "\u001b[?25hCollecting PyQt5!=5.15.3,!=5.15.4 (from labelme)\n",
            "  Downloading PyQt5-5.15.9-cp37-abi3-manylinux_2_17_x86_64.whl (8.4 MB)\n",
            "\u001b[2K     \u001b[90m━━━━━━━━━━━━━━━━━━━━━━━━━━━━━━━━━━━━━━━━\u001b[0m \u001b[32m8.4/8.4 MB\u001b[0m \u001b[31m119.3 MB/s\u001b[0m eta \u001b[36m0:00:00\u001b[0m\n",
            "\u001b[?25hRequirement already satisfied: wheel<1.0,>=0.23.0 in /usr/local/lib/python3.10/dist-packages (from astunparse>=1.6.0->tensorflow) (0.40.0)\n",
            "Requirement already satisfied: ml-dtypes>=0.1.0 in /usr/local/lib/python3.10/dist-packages (from jax>=0.3.15->tensorflow) (0.1.0)\n",
            "Requirement already satisfied: scipy>=1.7 in /usr/local/lib/python3.10/dist-packages (from jax>=0.3.15->tensorflow) (1.10.1)\n",
            "Collecting PyQt5-sip<13,>=12.11 (from PyQt5!=5.15.3,!=5.15.4->labelme)\n",
            "  Downloading PyQt5_sip-12.12.1-cp310-cp310-manylinux_2_5_x86_64.manylinux1_x86_64.whl (360 kB)\n",
            "\u001b[2K     \u001b[90m━━━━━━━━━━━━━━━━━━━━━━━━━━━━━━━━━━━━━━\u001b[0m \u001b[32m360.5/360.5 kB\u001b[0m \u001b[31m37.3 MB/s\u001b[0m eta \u001b[36m0:00:00\u001b[0m\n",
            "\u001b[?25hCollecting PyQt5-Qt5>=5.15.2 (from PyQt5!=5.15.3,!=5.15.4->labelme)\n",
            "  Downloading PyQt5_Qt5-5.15.2-py3-none-manylinux2014_x86_64.whl (59.9 MB)\n",
            "\u001b[2K     \u001b[90m━━━━━━━━━━━━━━━━━━━━━━━━━━━━━━━━━━━━━━━━\u001b[0m \u001b[32m59.9/59.9 MB\u001b[0m \u001b[31m11.4 MB/s\u001b[0m eta \u001b[36m0:00:00\u001b[0m\n",
            "\u001b[?25hRequirement already satisfied: google-auth<3,>=1.6.3 in /usr/local/lib/python3.10/dist-packages (from tensorboard<2.13,>=2.12->tensorflow) (2.17.3)\n",
            "Requirement already satisfied: google-auth-oauthlib<1.1,>=0.5 in /usr/local/lib/python3.10/dist-packages (from tensorboard<2.13,>=2.12->tensorflow) (1.0.0)\n",
            "Requirement already satisfied: markdown>=2.6.8 in /usr/local/lib/python3.10/dist-packages (from tensorboard<2.13,>=2.12->tensorflow) (3.4.3)\n",
            "Requirement already satisfied: requests<3,>=2.21.0 in /usr/local/lib/python3.10/dist-packages (from tensorboard<2.13,>=2.12->tensorflow) (2.27.1)\n",
            "Requirement already satisfied: tensorboard-data-server<0.8.0,>=0.7.0 in /usr/local/lib/python3.10/dist-packages (from tensorboard<2.13,>=2.12->tensorflow) (0.7.0)\n",
            "Requirement already satisfied: tensorboard-plugin-wit>=1.6.0 in /usr/local/lib/python3.10/dist-packages (from tensorboard<2.13,>=2.12->tensorflow) (1.8.1)\n",
            "Requirement already satisfied: werkzeug>=1.0.1 in /usr/local/lib/python3.10/dist-packages (from tensorboard<2.13,>=2.12->tensorflow) (2.3.0)\n",
            "Requirement already satisfied: contourpy>=1.0.1 in /usr/local/lib/python3.10/dist-packages (from matplotlib->labelme) (1.0.7)\n",
            "Requirement already satisfied: cycler>=0.10 in /usr/local/lib/python3.10/dist-packages (from matplotlib->labelme) (0.11.0)\n",
            "Requirement already satisfied: fonttools>=4.22.0 in /usr/local/lib/python3.10/dist-packages (from matplotlib->labelme) (4.39.3)\n",
            "Requirement already satisfied: kiwisolver>=1.0.1 in /usr/local/lib/python3.10/dist-packages (from matplotlib->labelme) (1.4.4)\n",
            "Requirement already satisfied: pyparsing>=2.3.1 in /usr/local/lib/python3.10/dist-packages (from matplotlib->labelme) (3.0.9)\n",
            "Requirement already satisfied: python-dateutil>=2.7 in /usr/local/lib/python3.10/dist-packages (from matplotlib->labelme) (2.8.2)\n",
            "Requirement already satisfied: cachetools<6.0,>=2.0.0 in /usr/local/lib/python3.10/dist-packages (from google-auth<3,>=1.6.3->tensorboard<2.13,>=2.12->tensorflow) (5.3.0)\n",
            "Requirement already satisfied: pyasn1-modules>=0.2.1 in /usr/local/lib/python3.10/dist-packages (from google-auth<3,>=1.6.3->tensorboard<2.13,>=2.12->tensorflow) (0.3.0)\n",
            "Requirement already satisfied: rsa<5,>=3.1.4 in /usr/local/lib/python3.10/dist-packages (from google-auth<3,>=1.6.3->tensorboard<2.13,>=2.12->tensorflow) (4.9)\n",
            "Requirement already satisfied: requests-oauthlib>=0.7.0 in /usr/local/lib/python3.10/dist-packages (from google-auth-oauthlib<1.1,>=0.5->tensorboard<2.13,>=2.12->tensorflow) (1.3.1)\n",
            "Requirement already satisfied: urllib3<1.27,>=1.21.1 in /usr/local/lib/python3.10/dist-packages (from requests<3,>=2.21.0->tensorboard<2.13,>=2.12->tensorflow) (1.26.15)\n",
            "Requirement already satisfied: certifi>=2017.4.17 in /usr/local/lib/python3.10/dist-packages (from requests<3,>=2.21.0->tensorboard<2.13,>=2.12->tensorflow) (2022.12.7)\n",
            "Requirement already satisfied: charset-normalizer~=2.0.0 in /usr/local/lib/python3.10/dist-packages (from requests<3,>=2.21.0->tensorboard<2.13,>=2.12->tensorflow) (2.0.12)\n",
            "Requirement already satisfied: idna<4,>=2.5 in /usr/local/lib/python3.10/dist-packages (from requests<3,>=2.21.0->tensorboard<2.13,>=2.12->tensorflow) (3.4)\n",
            "Requirement already satisfied: MarkupSafe>=2.1.1 in /usr/local/lib/python3.10/dist-packages (from werkzeug>=1.0.1->tensorboard<2.13,>=2.12->tensorflow) (2.1.2)\n",
            "Requirement already satisfied: pyasn1<0.6.0,>=0.4.6 in /usr/local/lib/python3.10/dist-packages (from pyasn1-modules>=0.2.1->google-auth<3,>=1.6.3->tensorboard<2.13,>=2.12->tensorflow) (0.5.0)\n",
            "Requirement already satisfied: oauthlib>=3.0.0 in /usr/local/lib/python3.10/dist-packages (from requests-oauthlib>=0.7.0->google-auth-oauthlib<1.1,>=0.5->tensorboard<2.13,>=2.12->tensorflow) (3.2.2)\n",
            "Building wheels for collected packages: labelme\n",
            "  Building wheel for labelme (setup.py) ... \u001b[?25l\u001b[?25hdone\n",
            "  Created wheel for labelme: filename=labelme-5.2.1-py3-none-any.whl size=1466726 sha256=d86c3ed6b4ac3836f67586839f9ef6f970dcb95f24744aa335aa463c21068fb4\n",
            "  Stored in directory: /root/.cache/pip/wheels/de/44/e2/f05944b4d1af582c7d28ab2d1372a57f63b24576f28a4aa0c3\n",
            "Successfully built labelme\n",
            "Installing collected packages: PyQt5-Qt5, qtpy, PyQt5-sip, PyQt5, imgviz, labelme\n",
            "Successfully installed PyQt5-5.15.9 PyQt5-Qt5-5.15.2 PyQt5-sip-12.12.1 imgviz-1.7.2 labelme-5.2.1 qtpy-2.3.1\n"
          ]
        }
      ]
    },
    {
      "cell_type": "code",
      "source": [
        "!labelme"
      ],
      "metadata": {
        "id": "Q-e7zmqE3RFM"
      },
      "execution_count": null,
      "outputs": []
    },
    {
      "cell_type": "markdown",
      "source": [
        " Import TF and Deps"
      ],
      "metadata": {
        "id": "dIj9_M90bSWq"
      }
    },
    {
      "cell_type": "code",
      "source": [
        "import tensorflow as tf\n",
        "import json\n",
        "import numpy as np\n",
        "from matplotlib import pyplot as plt"
      ],
      "metadata": {
        "id": "Hc9Mz8kGYsfW"
      },
      "execution_count": null,
      "outputs": []
    },
    {
      "cell_type": "markdown",
      "source": [
        "Load Image into TF Data Pipeline"
      ],
      "metadata": {
        "id": "2e6tdv9pbVcA"
      }
    },
    {
      "cell_type": "code",
      "source": [
        "images = tf.data.Dataset.list_files(os.path.join('drive','MyDrive','api_photo','image','*.jpeg'), shuffle = False)\n",
        "\n",
        "\n"
      ],
      "metadata": {
        "id": "XaNZvcZF1eFC"
      },
      "execution_count": null,
      "outputs": []
    },
    {
      "cell_type": "code",
      "source": [
        "images = tf.data.Dataset.list_files(os.path.join('drive','MyDrive','api_photo','image','*.jpeg'), shuffle = False)\n",
        "def load_image(x):\n",
        "  img = tf.io.read_file(x)\n",
        "  byte_img = tf.image.decode_jpeg(img)\n",
        "  return byte_img\n"
      ],
      "metadata": {
        "id": "HNrrkb7_y74x"
      },
      "execution_count": null,
      "outputs": []
    },
    {
      "cell_type": "markdown",
      "source": [
        " View Raw Images with Matplotlib"
      ],
      "metadata": {
        "id": "3_FmPT7sbdxj"
      }
    },
    {
      "cell_type": "code",
      "source": [
        "fig,ax = plt.subplots(ncols =4, figsize = (20,20))\n",
        "for idx, image in enumerate(images):\n",
        "  ax[idx].imshow(image)\n",
        "plt.show()"
      ],
      "metadata": {
        "id": "uvEc5omsXxC4"
      },
      "execution_count": null,
      "outputs": []
    },
    {
      "cell_type": "markdown",
      "source": [
        "Moving matching labels:"
      ],
      "metadata": {
        "id": "xdeFxvZyd5Cy"
      }
    },
    {
      "cell_type": "code",
      "source": [
        "for folder in ['train','test','val']:\n",
        "  for file in os.listdir(os.path.join('drive','MyDrive','api_photo',folder, 'images')):\n",
        "\n",
        "    filename = file.split(\".\")[0] + \".json\"\n",
        "    existing_filepath = os.path.join('drive','MyDrive','api_photo','labels',filename)\n",
        "    if os.path.exists(existing_filepath):\n",
        "      new_filepath = os.path.join('drive','MyDrive','api_photo',folder,'labels',filename)\n",
        "      os.replace(existing_filepath, new_filepath)\n"
      ],
      "metadata": {
        "id": "nCzLeiXRcKbk"
      },
      "execution_count": null,
      "outputs": []
    },
    {
      "cell_type": "markdown",
      "source": [
        "Setup Albumentations Transform Pipeline"
      ],
      "metadata": {
        "id": "10NRfinUhNnW"
      }
    },
    {
      "cell_type": "code",
      "source": [
        "import albumentations as alb"
      ],
      "metadata": {
        "id": "M-AxiZRcg_Am"
      },
      "execution_count": null,
      "outputs": []
    },
    {
      "cell_type": "code",
      "source": [
        "augmentor = alb.Compose([alb.HorizontalFlip(p=0.5),\n",
        "             alb.RandomBrightnessContrast(p=0.3)],\n",
        "             bbox_params=alb.BboxParams(format='albumentations', label_fields = ['class_labels']))\n"
      ],
      "metadata": {
        "id": "E2cFxisQhS8a"
      },
      "execution_count": null,
      "outputs": []
    },
    {
      "cell_type": "markdown",
      "source": [
        "Test an Image & Annotation"
      ],
      "metadata": {
        "id": "RKXsuOvSiXqk"
      }
    },
    {
      "cell_type": "code",
      "source": [
        "import cv2"
      ],
      "metadata": {
        "id": "60HYdloSiPIA"
      },
      "execution_count": null,
      "outputs": []
    },
    {
      "cell_type": "code",
      "source": [
        "img = cv2.imread(\"/content/drive/MyDrive/api_photo/train/images/1029572.jpeg\")\n",
        "img"
      ],
      "metadata": {
        "colab": {
          "base_uri": "https://localhost:8080/"
        },
        "id": "wgqr4drtiPw2",
        "outputId": "d271db2d-7951-4e6b-a0a6-45646dddb679"
      },
      "execution_count": null,
      "outputs": [
        {
          "output_type": "execute_result",
          "data": {
            "text/plain": [
              "array([[[ 88, 176, 216],\n",
              "        [ 92, 178, 220],\n",
              "        [ 84, 176, 219],\n",
              "        ...,\n",
              "        [ 50,  26,  61],\n",
              "        [ 51,  26,  64],\n",
              "        [ 54,  30,  65]],\n",
              "\n",
              "       [[ 87, 175, 216],\n",
              "        [ 85, 173, 214],\n",
              "        [ 86, 174, 215],\n",
              "        ...,\n",
              "        [ 48,  24,  58],\n",
              "        [ 52,  27,  65],\n",
              "        [ 57,  31,  71]],\n",
              "\n",
              "       [[ 77, 171, 214],\n",
              "        [ 72, 167, 207],\n",
              "        [ 83, 171, 212],\n",
              "        ...,\n",
              "        [ 54,  30,  65],\n",
              "        [ 59,  34,  72],\n",
              "        [ 51,  28,  66]],\n",
              "\n",
              "       ...,\n",
              "\n",
              "       [[ 46,  35,  75],\n",
              "        [ 44,  40,  76],\n",
              "        [ 54,  46,  86],\n",
              "        ...,\n",
              "        [ 38,  14,  46],\n",
              "        [ 38,  14,  46],\n",
              "        [ 39,  15,  45]],\n",
              "\n",
              "       [[ 43,  32,  65],\n",
              "        [ 41,  32,  65],\n",
              "        [ 53,  47,  88],\n",
              "        ...,\n",
              "        [ 39,  15,  45],\n",
              "        [ 38,  14,  46],\n",
              "        [ 40,  16,  48]],\n",
              "\n",
              "       [[ 44,  35,  68],\n",
              "        [ 46,  36,  72],\n",
              "        [ 50,  48,  90],\n",
              "        ...,\n",
              "        [ 37,  14,  42],\n",
              "        [ 39,  16,  44],\n",
              "        [ 38,  14,  46]]], dtype=uint8)"
            ]
          },
          "metadata": {},
          "execution_count": 9
        }
      ]
    },
    {
      "cell_type": "code",
      "source": [
        "with open(\"/content/drive/MyDrive/api_photo/train/labels/1029572.json\", 'r') as f:\n",
        "  label = json.load(f)"
      ],
      "metadata": {
        "id": "EB_TKSM5jMZo"
      },
      "execution_count": null,
      "outputs": []
    },
    {
      "cell_type": "markdown",
      "source": [
        "get the coordinates"
      ],
      "metadata": {
        "id": "rUuOBswMkd2L"
      }
    },
    {
      "cell_type": "code",
      "source": [
        "label['shapes'][0]['points']"
      ],
      "metadata": {
        "colab": {
          "base_uri": "https://localhost:8080/"
        },
        "id": "1CY-pVF7jdTx",
        "outputId": "a4a38883-8dd5-4b86-c179-304597bec138"
      },
      "execution_count": null,
      "outputs": [
        {
          "output_type": "execute_result",
          "data": {
            "text/plain": [
              "[[2582.0, 59.0], [5162.0, 3419.0]]"
            ]
          },
          "metadata": {},
          "execution_count": 11
        }
      ]
    },
    {
      "cell_type": "code",
      "source": [
        "coords = [0,0,0,0]\n",
        "coords[0] = label['shapes'][0]['points'][0][0]\n",
        "coords[1] = label['shapes'][0]['points'][0][1]\n",
        "coords[2] = label['shapes'][0]['points'][1][0]\n",
        "coords[3] = label['shapes'][0]['points'][1][1]"
      ],
      "metadata": {
        "id": "u1Rw4aBVjjWa"
      },
      "execution_count": null,
      "outputs": []
    },
    {
      "cell_type": "code",
      "source": [
        "coords"
      ],
      "metadata": {
        "colab": {
          "base_uri": "https://localhost:8080/"
        },
        "id": "Qw8chENlkT2s",
        "outputId": "7bc8f4a0-8e3a-4c61-ccc2-860709956e56"
      },
      "execution_count": null,
      "outputs": [
        {
          "output_type": "execute_result",
          "data": {
            "text/plain": [
              "[2582.0, 59.0, 5162.0, 3419.0]"
            ]
          },
          "metadata": {},
          "execution_count": 13
        }
      ]
    },
    {
      "cell_type": "markdown",
      "source": [
        "normalize the coordinates by dividing x with width and y with height of the image"
      ],
      "metadata": {
        "id": "D_1urJJqkazL"
      }
    },
    {
      "cell_type": "code",
      "source": [
        "type(img)"
      ],
      "metadata": {
        "colab": {
          "base_uri": "https://localhost:8080/"
        },
        "id": "rKXKw3dukUqA",
        "outputId": "7a77c368-707f-4139-db65-e61384d707ac"
      },
      "execution_count": null,
      "outputs": [
        {
          "output_type": "execute_result",
          "data": {
            "text/plain": [
              "numpy.ndarray"
            ]
          },
          "metadata": {},
          "execution_count": 93
        }
      ]
    },
    {
      "cell_type": "code",
      "source": [
        "img.shape"
      ],
      "metadata": {
        "colab": {
          "base_uri": "https://localhost:8080/"
        },
        "id": "Xt8j6HRdDa1G",
        "outputId": "a0fcbdcd-d358-4acd-8f90-146ef79cfe26"
      },
      "execution_count": null,
      "outputs": [
        {
          "output_type": "execute_result",
          "data": {
            "text/plain": [
              "(3456, 5184, 3)"
            ]
          },
          "metadata": {},
          "execution_count": 14
        }
      ]
    },
    {
      "cell_type": "code",
      "source": [
        "max(img.shape)"
      ],
      "metadata": {
        "colab": {
          "base_uri": "https://localhost:8080/"
        },
        "id": "yclRgwPgDHQV",
        "outputId": "a518e4c9-2b8b-4a52-e143-4a3e06d41971"
      },
      "execution_count": null,
      "outputs": [
        {
          "output_type": "execute_result",
          "data": {
            "text/plain": [
              "5184"
            ]
          },
          "metadata": {},
          "execution_count": 35
        }
      ]
    },
    {
      "cell_type": "code",
      "source": [
        "y_normalizer = img.shape[0]\n",
        "x_normalizer = img.shape[1]"
      ],
      "metadata": {
        "id": "XX9jXTDHkj57"
      },
      "execution_count": null,
      "outputs": []
    },
    {
      "cell_type": "code",
      "source": [
        "coords = list(np.divide( coords, [x_normalizer,y_normalizer,x_normalizer,y_normalizer]))\n",
        "coords"
      ],
      "metadata": {
        "colab": {
          "base_uri": "https://localhost:8080/"
        },
        "id": "3v6xFT2Wkpm_",
        "outputId": "94f39f79-e114-489b-88ea-32a45a7f1be5"
      },
      "execution_count": null,
      "outputs": [
        {
          "output_type": "execute_result",
          "data": {
            "text/plain": [
              "[0.498070987654321,\n",
              " 0.01707175925925926,\n",
              " 0.9957561728395061,\n",
              " 0.9892939814814815]"
            ]
          },
          "metadata": {},
          "execution_count": 16
        }
      ]
    },
    {
      "cell_type": "markdown",
      "source": [
        "try augmentation pipeline"
      ],
      "metadata": {
        "id": "Ri4D3tfile5P"
      }
    },
    {
      "cell_type": "code",
      "source": [
        "aug = augmentor(image = img, bboxes=[coords], class_labels = ['face'])\n"
      ],
      "metadata": {
        "id": "4rbJc4_FlOkY",
        "colab": {
          "base_uri": "https://localhost:8080/",
          "height": 169
        },
        "outputId": "b25f39ca-fda7-42c5-8e61-842ab06cb27b"
      },
      "execution_count": null,
      "outputs": [
        {
          "output_type": "error",
          "ename": "NameError",
          "evalue": "ignored",
          "traceback": [
            "\u001b[0;31m---------------------------------------------------------------------------\u001b[0m",
            "\u001b[0;31mNameError\u001b[0m                                 Traceback (most recent call last)",
            "\u001b[0;32m<ipython-input-8-6c44012266d8>\u001b[0m in \u001b[0;36m<module>\u001b[0;34m\u001b[0m\n\u001b[0;32m----> 1\u001b[0;31m \u001b[0maug\u001b[0m \u001b[0;34m=\u001b[0m \u001b[0maugmentor\u001b[0m\u001b[0;34m(\u001b[0m\u001b[0mimage\u001b[0m \u001b[0;34m=\u001b[0m \u001b[0mimg\u001b[0m\u001b[0;34m,\u001b[0m \u001b[0mbboxes\u001b[0m\u001b[0;34m=\u001b[0m\u001b[0;34m[\u001b[0m\u001b[0mcoords\u001b[0m\u001b[0;34m]\u001b[0m\u001b[0;34m,\u001b[0m \u001b[0mclass_labels\u001b[0m \u001b[0;34m=\u001b[0m \u001b[0;34m[\u001b[0m\u001b[0;34m'face'\u001b[0m\u001b[0;34m]\u001b[0m\u001b[0;34m)\u001b[0m\u001b[0;34m\u001b[0m\u001b[0;34m\u001b[0m\u001b[0m\n\u001b[0m",
            "\u001b[0;31mNameError\u001b[0m: name 'img' is not defined"
          ]
        }
      ]
    },
    {
      "cell_type": "code",
      "source": [
        "aug['bboxes']"
      ],
      "metadata": {
        "colab": {
          "base_uri": "https://localhost:8080/"
        },
        "id": "JGEncK5ByV-q",
        "outputId": "4a6cb9a3-ac2a-4f4e-89fb-376ea146e900"
      },
      "execution_count": null,
      "outputs": [
        {
          "output_type": "execute_result",
          "data": {
            "text/plain": [
              "[(0.004243827160493874,\n",
              "  0.01707175925925926,\n",
              "  0.501929012345679,\n",
              "  0.9892939814814815)]"
            ]
          },
          "metadata": {},
          "execution_count": 28
        }
      ]
    },
    {
      "cell_type": "code",
      "source": [
        "aug['bboxes'][0]"
      ],
      "metadata": {
        "colab": {
          "base_uri": "https://localhost:8080/"
        },
        "id": "_X1vDDeAyfu0",
        "outputId": "fa575f40-fe8c-4633-be27-1463d34f9eb6"
      },
      "execution_count": null,
      "outputs": [
        {
          "output_type": "execute_result",
          "data": {
            "text/plain": [
              "(0.004243827160493874,\n",
              " 0.01707175925925926,\n",
              " 0.501929012345679,\n",
              " 0.9892939814814815)"
            ]
          },
          "metadata": {},
          "execution_count": 29
        }
      ]
    },
    {
      "cell_type": "code",
      "source": [
        "aug['bboxes'][0][2:]"
      ],
      "metadata": {
        "colab": {
          "base_uri": "https://localhost:8080/"
        },
        "id": "2sAAMnWiylum",
        "outputId": "325a05df-b376-4b0c-b805-2d3cc32de22b"
      },
      "execution_count": null,
      "outputs": [
        {
          "output_type": "execute_result",
          "data": {
            "text/plain": [
              "(0.501929012345679, 0.9892939814814815)"
            ]
          },
          "metadata": {},
          "execution_count": 30
        }
      ]
    },
    {
      "cell_type": "code",
      "source": [
        "cv2.rectangle(aug['image'],\n",
        "              tuple(np.multiply(aug['bboxes'][0][:2], [max(img.shape),max(img.shape)]).astype(int)),\n",
        "              tuple(np.multiply(aug['bboxes'][0][2:], [max(img.shape),max(img.shape)]).astype(int)),\n",
        "              (0,255,0),4)"
      ],
      "metadata": {
        "colab": {
          "base_uri": "https://localhost:8080/"
        },
        "id": "V-GoJrOxyUEK",
        "outputId": "0f828343-bfcc-47da-aa17-664de7d193ca"
      },
      "execution_count": null,
      "outputs": [
        {
          "output_type": "execute_result",
          "data": {
            "text/plain": [
              "array([[[  5,   0,  15],\n",
              "        [  2,   0,  14],\n",
              "        [  1,   0,  11],\n",
              "        ...,\n",
              "        [ 33, 120, 161],\n",
              "        [ 41, 122, 162],\n",
              "        [ 37, 120, 158]],\n",
              "\n",
              "       [[  7,   0,  21],\n",
              "        [  3,   0,  15],\n",
              "        [  0,   0,   8],\n",
              "        ...,\n",
              "        [ 35, 119, 157],\n",
              "        [ 34, 118, 157],\n",
              "        [ 36, 119, 158]],\n",
              "\n",
              "       [[  2,   0,  16],\n",
              "        [  9,   0,  22],\n",
              "        [  5,   0,  15],\n",
              "        ...,\n",
              "        [ 32, 116, 155],\n",
              "        [ 22, 112, 150],\n",
              "        [ 26, 116, 157]],\n",
              "\n",
              "       ...,\n",
              "\n",
              "       [[  0,   0,   0],\n",
              "        [  0,   0,   0],\n",
              "        [  0,   0,   0],\n",
              "        ...,\n",
              "        [  5,   0,  35],\n",
              "        [  0,   0,  25],\n",
              "        [  0,   0,  25]],\n",
              "\n",
              "       [[  0,   0,   0],\n",
              "        [  0,   0,   0],\n",
              "        [  0,   0,   0],\n",
              "        ...,\n",
              "        [  4,   0,  37],\n",
              "        [  0,   0,  15],\n",
              "        [  0,   0,  15]],\n",
              "\n",
              "       [[  0,   0,   0],\n",
              "        [  0,   0,   0],\n",
              "        [  0,   0,   0],\n",
              "        ...,\n",
              "        [  1,   0,  39],\n",
              "        [  0,   0,  22],\n",
              "        [  0,   0,  18]]], dtype=uint8)"
            ]
          },
          "metadata": {},
          "execution_count": 36
        }
      ]
    },
    {
      "cell_type": "code",
      "source": [
        "plt.imshow(aug['image'])"
      ],
      "metadata": {
        "colab": {
          "base_uri": "https://localhost:8080/",
          "height": 287
        },
        "id": "z7ywpw7pyuaV",
        "outputId": "54cc58d6-daef-4448-ad0c-e7c84764404b"
      },
      "execution_count": null,
      "outputs": [
        {
          "output_type": "execute_result",
          "data": {
            "text/plain": [
              "<matplotlib.image.AxesImage at 0x7fce70098ee0>"
            ]
          },
          "metadata": {},
          "execution_count": 37
        },
        {
          "output_type": "display_data",
          "data": {
            "text/plain": [
              "<Figure size 432x288 with 1 Axes>"
            ],
            "image/png": "[encoded data removed]"
          },
          "metadata": {
            "needs_background": "light"
          }
        }
      ]
    },
    {
      "cell_type": "markdown",
      "source": [
        "BUILD AUGMENTATION PIPELINE"
      ],
      "metadata": {
        "id": "zWJXvMtEDX2p"
      }
    },
    {
      "cell_type": "code",
      "source": [
        "for folder in ['train','test','val']:\n",
        "  for files in os.listdir(os.path.join('drive','MyDrive','api_photo',folder, 'images')):\n",
        "\n",
        "    filename = files.split(\".\")[0]\n",
        "    img = cv2.imread(os.path.join('drive','MyDrive','api_photo',folder, 'images',files))\n",
        "    filepath = os.path.join('drive','MyDrive','api_photo',folder, 'labels',f'{filename}.json')\n",
        "    coords = [0,0,0.000001,0.000001]\n",
        "\n",
        "    if os.path.exists(filepath):\n",
        "      with open(filepath, 'r') as f:\n",
        "        label = json.load(f)\n",
        "\n",
        "\n",
        "      coords[0] = label['shapes'][0]['points'][0][0]\n",
        "      coords[1] = label['shapes'][0]['points'][0][1]\n",
        "      coords[2] = label['shapes'][0]['points'][1][0]\n",
        "      coords[3] = label['shapes'][0]['points'][1][1]\n",
        "\n",
        "    y_normalizer = img.shape[0]\n",
        "    x_normalizer = img.shape[1]\n",
        "\n",
        "    coords = list(np.divide( coords, [x_normalizer,y_normalizer,x_normalizer,y_normalizer]))\n",
        "\n",
        "    try:\n",
        "      for x in range(60):\n",
        "        aug = augmentor(image = img, bboxes=[coords], class_labels = ['face'])\n",
        "        cv2.imwrite(os.path.join('drive','MyDrive','api_photo','aug_data',folder,'images', f'{filename}_{x}.jpeg'), aug['image'])\n",
        "        annotation = {}\n",
        "        annotation['image'] = files\n",
        "        if os.path.exists(filepath):\n",
        "          if len(aug['bboxes']) == 0:\n",
        "            annotation['bbox'] = [0,0,0,0]\n",
        "            annotation['class'] = 0\n",
        "          else:\n",
        "            annotation['bbox'] = aug['bboxes'][0]\n",
        "            annotation['class'] = 1\n",
        "        else:\n",
        "          annotation['bbox'] = [0,0,0,0]\n",
        "          annotation['class'] = 0\n",
        "\n",
        "        with open(os.path.join('drive','MyDrive','api_photo','aug_data',folder,'labels', f'{filename}_{x}.json'), 'w') as f:\n",
        "          json.dump(annotation, f)\n",
        "    except Exception as e:\n",
        "      print(e)\n",
        "\n",
        "\n",
        "\n",
        "\n"
      ],
      "metadata": {
        "id": "yIEOAENazOzF",
        "colab": {
          "base_uri": "https://localhost:8080/",
          "height": 276
        },
        "outputId": "34a8b4a9-d7b1-4dd5-b093-a6586e9febc0"
      },
      "execution_count": null,
      "outputs": [
        {
          "output_type": "stream",
          "name": "stdout",
          "text": [
            "name 'augmentor' is not defined\n",
            "name 'augmentor' is not defined\n"
          ]
        },
        {
          "output_type": "error",
          "ename": "KeyboardInterrupt",
          "evalue": "ignored",
          "traceback": [
            "\u001b[0;31m---------------------------------------------------------------------------\u001b[0m",
            "\u001b[0;31mKeyboardInterrupt\u001b[0m                         Traceback (most recent call last)",
            "\u001b[0;32m<ipython-input-6-0767b578f4d5>\u001b[0m in \u001b[0;36m<module>\u001b[0;34m\u001b[0m\n\u001b[1;32m      3\u001b[0m \u001b[0;34m\u001b[0m\u001b[0m\n\u001b[1;32m      4\u001b[0m     \u001b[0mfilename\u001b[0m \u001b[0;34m=\u001b[0m \u001b[0mfiles\u001b[0m\u001b[0;34m.\u001b[0m\u001b[0msplit\u001b[0m\u001b[0;34m(\u001b[0m\u001b[0;34m\".\"\u001b[0m\u001b[0;34m)\u001b[0m\u001b[0;34m[\u001b[0m\u001b[0;36m0\u001b[0m\u001b[0;34m]\u001b[0m\u001b[0;34m\u001b[0m\u001b[0;34m\u001b[0m\u001b[0m\n\u001b[0;32m----> 5\u001b[0;31m     \u001b[0mimg\u001b[0m \u001b[0;34m=\u001b[0m \u001b[0mcv2\u001b[0m\u001b[0;34m.\u001b[0m\u001b[0mimread\u001b[0m\u001b[0;34m(\u001b[0m\u001b[0mos\u001b[0m\u001b[0;34m.\u001b[0m\u001b[0mpath\u001b[0m\u001b[0;34m.\u001b[0m\u001b[0mjoin\u001b[0m\u001b[0;34m(\u001b[0m\u001b[0;34m'drive'\u001b[0m\u001b[0;34m,\u001b[0m\u001b[0;34m'MyDrive'\u001b[0m\u001b[0;34m,\u001b[0m\u001b[0;34m'api_photo'\u001b[0m\u001b[0;34m,\u001b[0m\u001b[0mfolder\u001b[0m\u001b[0;34m,\u001b[0m \u001b[0;34m'images'\u001b[0m\u001b[0;34m,\u001b[0m\u001b[0mfiles\u001b[0m\u001b[0;34m)\u001b[0m\u001b[0;34m)\u001b[0m\u001b[0;34m\u001b[0m\u001b[0;34m\u001b[0m\u001b[0m\n\u001b[0m\u001b[1;32m      6\u001b[0m     \u001b[0mfilepath\u001b[0m \u001b[0;34m=\u001b[0m \u001b[0mos\u001b[0m\u001b[0;34m.\u001b[0m\u001b[0mpath\u001b[0m\u001b[0;34m.\u001b[0m\u001b[0mjoin\u001b[0m\u001b[0;34m(\u001b[0m\u001b[0;34m'drive'\u001b[0m\u001b[0;34m,\u001b[0m\u001b[0;34m'MyDrive'\u001b[0m\u001b[0;34m,\u001b[0m\u001b[0;34m'api_photo'\u001b[0m\u001b[0;34m,\u001b[0m\u001b[0mfolder\u001b[0m\u001b[0;34m,\u001b[0m \u001b[0;34m'labels'\u001b[0m\u001b[0;34m,\u001b[0m\u001b[0;34mf'{filename}.json'\u001b[0m\u001b[0;34m)\u001b[0m\u001b[0;34m\u001b[0m\u001b[0;34m\u001b[0m\u001b[0m\n\u001b[1;32m      7\u001b[0m     \u001b[0mcoords\u001b[0m \u001b[0;34m=\u001b[0m \u001b[0;34m[\u001b[0m\u001b[0;36m0\u001b[0m\u001b[0;34m,\u001b[0m\u001b[0;36m0\u001b[0m\u001b[0;34m,\u001b[0m\u001b[0;36m0.000001\u001b[0m\u001b[0;34m,\u001b[0m\u001b[0;36m0.000001\u001b[0m\u001b[0;34m]\u001b[0m\u001b[0;34m\u001b[0m\u001b[0;34m\u001b[0m\u001b[0m\n",
            "\u001b[0;31mKeyboardInterrupt\u001b[0m: "
          ]
        }
      ]
    },
    {
      "cell_type": "markdown",
      "source": [
        "Load Augmented Images to Tensorflow Dataset"
      ],
      "metadata": {
        "id": "BHeDnjy2bz5v"
      }
    },
    {
      "cell_type": "code",
      "source": [
        "def load_image(x):\n",
        "  img = tf.io.read_file(x)\n",
        "  byte_img = tf.image.decode_jpeg(img)\n",
        "  return byte_img"
      ],
      "metadata": {
        "id": "a1q3Dipsc7FG"
      },
      "execution_count": null,
      "outputs": []
    },
    {
      "cell_type": "code",
      "source": [
        "def normalize_image(image):\n",
        "    return tf.image.resize(image, (500,500))"
      ],
      "metadata": {
        "id": "8EGe5sC6eCqP"
      },
      "execution_count": null,
      "outputs": []
    },
    {
      "cell_type": "code",
      "source": [
        "try:\n",
        "  train_images = tf.data.Dataset.list_files(os.path.join('drive','MyDrive','api_photo','aug_data','train', 'images','*.jpeg'), shuffle = False)\n",
        "  train_images = train_images.map(load_image)\n",
        "  train_images = train_images.map(lambda x: tf.image.resize(x, (1500,1500)))\n",
        "  train_images = train_images.map(lambda x: x/255)\n",
        "\n",
        "except Exception as e:\n",
        "  print(e)"
      ],
      "metadata": {
        "id": "zvo_f9KNJ2HI"
      },
      "execution_count": null,
      "outputs": []
    },
    {
      "cell_type": "code",
      "source": [
        "try:\n",
        "  test_images = tf.data.Dataset.list_files(os.path.join('drive','MyDrive','api_photo','aug_data','test', 'images','*.jpeg'), shuffle = False)\n",
        "  test_images = test_images.map(load_image)\n",
        "  test_images = test_images.map(lambda x: tf.image.resize(x, (1500,1500)))\n",
        "  test_images = test_images.map(lambda x: x/255)\n",
        "\n",
        "except Exception as e:\n",
        "  print(e)"
      ],
      "metadata": {
        "id": "ctktI5mzffaN"
      },
      "execution_count": null,
      "outputs": []
    },
    {
      "cell_type": "code",
      "source": [
        "try:\n",
        "  val_images = tf.data.Dataset.list_files(os.path.join('drive','MyDrive','api_photo','aug_data','val', 'images','*.jpeg'), shuffle = False)\n",
        "  val_images = val_images.map(load_image)\n",
        "  val_images = val_images.map(lambda x: tf.image.resize(x, (1500,1500)))\n",
        "  val_images = val_images.map(lambda x: x/255)\n",
        "\n",
        "except Exception as e:\n",
        "  print(e)"
      ],
      "metadata": {
        "id": "djdKikuwmFpG"
      },
      "execution_count": null,
      "outputs": []
    },
    {
      "cell_type": "code",
      "source": [
        "len(train_images), len(test_images), len(val_images)"
      ],
      "metadata": {
        "colab": {
          "base_uri": "https://localhost:8080/"
        },
        "id": "3UHEFbdseRlr",
        "outputId": "0be582c4-af0e-4299-cb96-0290beaec762"
      },
      "execution_count": null,
      "outputs": [
        {
          "output_type": "execute_result",
          "data": {
            "text/plain": [
              "(1860, 720, 420)"
            ]
          },
          "metadata": {},
          "execution_count": 10
        }
      ]
    },
    {
      "cell_type": "code",
      "source": [
        "type(train_images)"
      ],
      "metadata": {
        "colab": {
          "base_uri": "https://localhost:8080/"
        },
        "id": "hOqs9z5bCNUS",
        "outputId": "5937df0d-2ce7-4dc3-9106-02d0633c82eb"
      },
      "execution_count": null,
      "outputs": [
        {
          "output_type": "execute_result",
          "data": {
            "text/plain": [
              "tensorflow.python.data.ops.dataset_ops.MapDataset"
            ]
          },
          "metadata": {},
          "execution_count": 15
        }
      ]
    },
    {
      "cell_type": "code",
      "source": [
        "val_images.as_numpy_iterator().next()"
      ],
      "metadata": {
        "colab": {
          "base_uri": "https://localhost:8080/"
        },
        "id": "WFUhyl08eS_M",
        "outputId": "b85e0d0e-2f79-4370-c7ed-9b41af518451"
      },
      "execution_count": null,
      "outputs": [
        {
          "output_type": "execute_result",
          "data": {
            "text/plain": [
              "array([[[0.47025508, 0.4035884 , 0.30162764],\n",
              "        [0.4703092 , 0.39187783, 0.28599548],\n",
              "        [0.47531885, 0.39688748, 0.29100513],\n",
              "        ...,\n",
              "        [0.8039216 , 0.8509804 , 0.8509804 ],\n",
              "        [0.8039216 , 0.8509804 , 0.8509804 ],\n",
              "        [0.8039216 , 0.8509804 , 0.8509804 ]],\n",
              "\n",
              "       [[0.4539837 , 0.387317  , 0.2843157 ],\n",
              "        [0.47062537, 0.392194  , 0.28631163],\n",
              "        [0.47913113, 0.40069976, 0.2948174 ],\n",
              "        ...,\n",
              "        [0.8039216 , 0.8509804 , 0.8509804 ],\n",
              "        [0.8039216 , 0.8509804 , 0.8509804 ],\n",
              "        [0.8039216 , 0.8509804 , 0.8509804 ]],\n",
              "\n",
              "       [[0.4602933 , 0.3936266 , 0.2838227 ],\n",
              "        [0.47168407, 0.39325267, 0.28737032],\n",
              "        [0.47839445, 0.39996308, 0.29408073],\n",
              "        ...,\n",
              "        [0.8039216 , 0.8509804 , 0.8509804 ],\n",
              "        [0.8039216 , 0.8509804 , 0.8509804 ],\n",
              "        [0.8039216 , 0.8509804 , 0.8509804 ]],\n",
              "\n",
              "       ...,\n",
              "\n",
              "       [[0.14901961, 0.15686275, 0.15294118],\n",
              "        [0.14163412, 0.15686275, 0.15294118],\n",
              "        [0.15294118, 0.16078432, 0.15686275],\n",
              "        ...,\n",
              "        [0.7403129 , 0.7396264 , 0.70063955],\n",
              "        [0.73392874, 0.7332423 , 0.6942554 ],\n",
              "        [0.7305869 , 0.73009896, 0.68410826]],\n",
              "\n",
              "       [[0.14509805, 0.15294118, 0.14901961],\n",
              "        [0.14901961, 0.15686275, 0.15294118],\n",
              "        [0.15263078, 0.16047391, 0.15655234],\n",
              "        ...,\n",
              "        [0.74769837, 0.73593366, 0.70063955],\n",
              "        [0.7435374 , 0.7317727 , 0.6964786 ],\n",
              "        [0.7479818 , 0.74013865, 0.6930798 ]],\n",
              "\n",
              "       [[0.14200272, 0.15987878, 0.15175459],\n",
              "        [0.1431534 , 0.15422685, 0.15030529],\n",
              "        [0.14492756, 0.15600102, 0.15207945],\n",
              "        ...,\n",
              "        [0.74339706, 0.73647785, 0.69633824],\n",
              "        [0.74159265, 0.7370344 , 0.6907842 ],\n",
              "        [0.7430054 , 0.73516226, 0.68810344]]], dtype=float32)"
            ]
          },
          "metadata": {},
          "execution_count": 16
        }
      ]
    },
    {
      "cell_type": "code",
      "source": [],
      "metadata": {
        "id": "hOC137kBCL2T"
      },
      "execution_count": null,
      "outputs": []
    },
    {
      "cell_type": "markdown",
      "source": [
        "Prepare Labels"
      ],
      "metadata": {
        "id": "DYFI-eWLAEiq"
      }
    },
    {
      "cell_type": "markdown",
      "source": [
        "6.1Build Label Loading function"
      ],
      "metadata": {
        "id": "UWhW7_7OAIph"
      }
    },
    {
      "cell_type": "code",
      "source": [
        "def load_label(label_path):\n",
        "  with open(label_path.numpy(), 'r', encoding = 'utf-8') as f:\n",
        "    label = json.load(f)\n",
        "\n",
        "  return [label['class'], label['bbox']]"
      ],
      "metadata": {
        "id": "Pb0mCWRoACIA"
      },
      "execution_count": null,
      "outputs": []
    },
    {
      "cell_type": "markdown",
      "source": [
        "6.2. Load labels to tensorflow dataset"
      ],
      "metadata": {
        "id": "PDdbd8nhAqDY"
      }
    },
    {
      "cell_type": "code",
      "source": [
        "label_paths= []\n",
        "for partition in ['train', 'test', 'val']:\n",
        "  label_path = os.path.join('drive','MyDrive','api_photo','aug_data', partition, 'labels', '*.json')\n",
        "  label_paths.append(label_path)\n",
        "label_paths"
      ],
      "metadata": {
        "colab": {
          "base_uri": "https://localhost:8080/"
        },
        "id": "QyZ4NLJ1Aodv",
        "outputId": "0ff6c85d-4952-474f-e3c2-8048862bb3ba"
      },
      "execution_count": null,
      "outputs": [
        {
          "output_type": "execute_result",
          "data": {
            "text/plain": [
              "['drive/MyDrive/api_photo/aug_data/train/labels/*.json',\n",
              " 'drive/MyDrive/api_photo/aug_data/test/labels/*.json',\n",
              " 'drive/MyDrive/api_photo/aug_data/val/labels/*.json']"
            ]
          },
          "metadata": {},
          "execution_count": 10
        }
      ]
    },
    {
      "cell_type": "code",
      "source": [
        "\n",
        "train_labels = tf.data.Dataset.list_files(label_paths[0]).map(lambda x: tf.py_function(load_label, [x], [tf.uint8, tf.float16]))\n",
        "test_labels = tf.data.Dataset.list_files(label_paths[1]).map(lambda x: tf.py_function(load_label, [x], [tf.uint8, tf.float16]))\n",
        "val_labels = tf.data.Dataset.list_files(label_paths[2]).map(lambda x: tf.py_function(load_label, [x], [tf.uint8, tf.float16]))\n",
        ""
      ],
      "metadata": {
        "id": "sTBEpcL1B68i"
      },
      "execution_count": null,
      "outputs": []
    },
    {
      "cell_type": "code",
      "source": [
        "val_labels.as_numpy_iterator().next()"
      ],
      "metadata": {
        "colab": {
          "base_uri": "https://localhost:8080/"
        },
        "id": "_YkKOVSZEoQ3",
        "outputId": "c99b7601-e9c8-4093-8ac2-d202a620e080"
      },
      "execution_count": null,
      "outputs": [
        {
          "output_type": "execute_result",
          "data": {
            "text/plain": [
              "(1, array([0.286 , 0.252 , 0.6123, 0.6685], dtype=float16))"
            ]
          },
          "metadata": {},
          "execution_count": 20
        }
      ]
    },
    {
      "cell_type": "markdown",
      "source": [
        "7. Combine Label and Image Samples"
      ],
      "metadata": {
        "id": "OoIi7QHuEzZG"
      }
    },
    {
      "cell_type": "code",
      "source": [
        "train = tf.data.Dataset.zip((train_images, train_labels))\n",
        "train = train.shuffle(2000)\n",
        "train = train.batch(8)\n",
        "train = train.prefetch(4)\n",
        "\n",
        "test = tf.data.Dataset.zip((test_images, test_labels))\n",
        "test = test.shuffle(900)\n",
        "test = test.batch(8)\n",
        "test = test.prefetch(4)\n",
        "\n",
        "valid = tf.data.Dataset.zip((val_images, val_labels))\n",
        "valid = valid.shuffle(500)\n",
        "valid = valid.batch(8)\n",
        "valid = valid.prefetch(4)"
      ],
      "metadata": {
        "id": "-8Mo-ydtEy6U"
      },
      "execution_count": null,
      "outputs": []
    },
    {
      "cell_type": "code",
      "source": [
        "valid.as_numpy_iterator().next()[1]\n"
      ],
      "metadata": {
        "id": "leGr06dtEtvU"
      },
      "execution_count": null,
      "outputs": []
    },
    {
      "cell_type": "code",
      "source": [
        "data_samples = valid.as_numpy_iterator()\n",
        "res = data_samples.next()\n",
        "\n",
        "fig, ax =plt.subplots(ncols = 4, figsize=(20,20))\n",
        "for idx in range(4):\n",
        "  sample_image = res[0][idx]\n",
        "  sample_coords = res[1][1][idx]\n",
        "\n",
        "  cv2.rectangle(sample_image,\n",
        "                tuple(np.multiply(sample_coords[:2], [1200,1200]).astype(int)),\n",
        "                tuple(np.multiply(sample_coords[2:],[1200,1200]).astype(int)),\n",
        "                (255,0,0),2)\n",
        "\n",
        "  ax[idx].imshow(sample_image)"
      ],
      "metadata": {
        "id": "RpGlJwRmGbKT"
      },
      "execution_count": null,
      "outputs": []
    },
    {
      "cell_type": "code",
      "source": [
        "import scipy.stats\n",
        "scipy.stats.norm.pdf(2, 1, 2) - scipy.stats.norm.pdf(0.5, 1, 2)\n"
      ],
      "metadata": {
        "colab": {
          "base_uri": "https://localhost:8080/"
        },
        "id": "XSxKIiaIKRD4",
        "outputId": "130791ba-c520-42a8-8492-7982972ecedb"
      },
      "execution_count": null,
      "outputs": [
        {
          "output_type": "execute_result",
          "data": {
            "text/plain": [
              "-0.017301395019274884"
            ]
          },
          "metadata": {},
          "execution_count": 7
        }
      ]
    },
    {
      "cell_type": "code",
      "source": [
        "\n",
        "def is_in_interval(number, minimum, maximum):\n",
        "    return minimum <= number <= maximum"
      ],
      "metadata": {
        "id": "B0euopmiKV6k"
      },
      "execution_count": null,
      "outputs": []
    },
    {
      "cell_type": "code",
      "source": [
        "def compute_event_probability(event_condition, generic_sample_space):\n",
        "    event = get_matching_event(event_condition, generic_sample_space)\n",
        "    if type(generic_sample_space) == type(set()):\n",
        "        return len(event) / len(generic_sample_space)\n",
        "\n",
        "    event_size = sum(generic_sample_space[outcome]\n",
        "                     for outcome in event)\n",
        "    return event_size / sum(generic_sample_space.values())"
      ],
      "metadata": {
        "id": "PXXnpFdjQBLj"
      },
      "execution_count": null,
      "outputs": []
    },
    {
      "cell_type": "code",
      "source": [
        "prob = compute_event_probability(lambda x: is_in_interval(x, 10, 21),\n",
        "                                 weighted_sample_space)\n",
        "print(f\"Probability of interval is {prob}\")\n",
        "\n",
        "Probability of interval is 0.5446244855967078"
      ],
      "metadata": {
        "id": "nJzp-jAoPf0G"
      },
      "execution_count": null,
      "outputs": []
    }
  ],
  "metadata": {
    "colab": {
      "provenance": [],
      "mount_file_id": "1xLFTLgpp2SAwgP1cLtKFW_VlpFvS6GYu",
      "authorship_tag": "ABX9TyOo4+qnpC1zLOEhg1/tFLKn",
      "include_colab_link": true
    },
    "kernelspec": {
      "display_name": "Python 3",
      "name": "python3"
    },
    "language_info": {
      "name": "python"
    }
  },
  "nbformat": 4,
  "nbformat_minor": 0
}